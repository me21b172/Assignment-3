{
 "cells": [
  {
   "cell_type": "code",
   "execution_count": 1,
   "id": "451e1f35",
   "metadata": {},
   "outputs": [],
   "source": [
    "import os\n",
    "import torch \n",
    "from io import open\n",
    "from torch.utils.data import Dataset,DataLoader\n",
    "import torch.nn.functional as F\n",
    "from torch import optim,nn\n",
    "import time\n",
    "import math\n",
    "import matplotlib.pyplot as plt\n",
    "plt.switch_backend('agg')\n",
    "import matplotlib.ticker as ticker\n",
    "import numpy as np\n",
    "from sklearn.metrics import confusion_matrix, ConfusionMatrixDisplay\n",
    "import seaborn as sns\n",
    "from matplotlib import font_manager\n",
    "import wandb\n",
    "import gc"
   ]
  },
  {
   "cell_type": "code",
   "execution_count": 2,
   "id": "d705df52",
   "metadata": {},
   "outputs": [],
   "source": [
    "device = torch.device(\"cuda:0\" if torch.cuda.is_available() else \"cpu\")"
   ]
  },
  {
   "cell_type": "code",
   "execution_count": 3,
   "id": "c0e4a5d5",
   "metadata": {},
   "outputs": [],
   "source": [
    "# Special tokens\n",
    "PAD_TOKEN = \"<PAD>\"\n",
    "EOS_TOKEN = \"<EOS>\"\n",
    "SOS_TOKEN = \"<SOS>\"\n",
    "UNK_TOKEN = \"<UNK>\"\n",
    "\n",
    "# Update the function to create mappings to include the special tokens\n",
    "def create_mappings(vocab):\n",
    "    vocab = [PAD_TOKEN, SOS_TOKEN, EOS_TOKEN, UNK_TOKEN] + sorted(vocab)\n",
    "    word2int = {word: i for i, word in enumerate(vocab)}\n",
    "    int2word = {i: word for word, i in word2int.items()}\n",
    "    return word2int, int2word\n",
    "\n",
    "def wordEncoder(words,encodelist):\n",
    "    n_letters = len(encodelist)\n",
    "    tensor = torch.zeros(len(words), n_letters)\n",
    "    for i,word in enumerate(words):\n",
    "        tensor[i][encodelist[word]] = 1\n",
    "    return tensor\n",
    "    \n",
    "def tokenise(word, wordMap):\n",
    "    return torch.tensor([wordMap[SOS_TOKEN]] + [wordMap[letter] for letter in word] + [wordMap[EOS_TOKEN]], dtype=torch.long)\n",
    "\n",
    "def asMinutes(s):\n",
    "    m = math.floor(s / 60)\n",
    "    s -= m * 60\n",
    "    return '%dm %ds' % (m, s)\n",
    "\n",
    "def timeSince(since, percent):\n",
    "    now = time.time()\n",
    "    s = now - since\n",
    "    es = s / (percent)\n",
    "    rs = es - s\n",
    "    return '%s (- %s)' % (asMinutes(s), asMinutes(rs))\n",
    "\n",
    "def showPlot(points):\n",
    "    plt.figure()\n",
    "    fig, ax = plt.subplots()\n",
    "    # this locator puts ticks at regular intervals\n",
    "    loc = ticker.MultipleLocator(base=0.2)\n",
    "    ax.yaxis.set_major_locator(loc)\n",
    "    plt.plot(points)"
   ]
  },
  {
   "cell_type": "code",
   "execution_count": 4,
   "id": "71419377",
   "metadata": {},
   "outputs": [
    {
     "data": {
      "text/plain": [
       "48562"
      ]
     },
     "execution_count": 4,
     "metadata": {},
     "output_type": "execute_result"
    }
   ],
   "source": [
    "types = {\"train\":'hi.translit.sampled.train.tsv',\"val\":'hi.translit.sampled.dev.tsv',\"test\":\"hi.translit.sampled.test.tsv\"}\n",
    "with open(os.path.join(\"lexicons/\",types[\"train\"]), \"r\", encoding=\"utf-8\") as f:\n",
    "    lines = f.readlines()\n",
    "train_data = np.array([[text.split(\"\\t\")[0],text.split(\"\\t\")[1][:-1]] for text in lines if not text.split(\"\\t\")[0] == '</s>'])\n",
    "with open(os.path.join(\"lexicons/\",types[\"val\"]), \"r\", encoding=\"utf-8\") as f:\n",
    "    lines = f.readlines()\n",
    "val_data = np.array([[text.split(\"\\t\")[0],text.split(\"\\t\")[1][:-1]] for text in lines if not text.split(\"\\t\")[0] == '</s>'])\n",
    "with open(os.path.join(\"lexicons/\",types[\"test\"]), \"r\", encoding=\"utf-8\") as f:\n",
    "    lines = f.readlines()\n",
    "test_data = np.array([[text.split(\"\\t\")[0],text.split(\"\\t\")[1][:-1]] for text in lines if not text.split(\"\\t\")[0] == '</s>'])\n",
    "test_data_point = np.array([[\"अनुज\",\"anuj\"],[\"निर्णयप्रक्रियेत\",\"nirnayaprakriyet\"]])\n",
    "merged_data = np.concatenate((train_data,val_data))\n",
    "len(merged_data)  "
   ]
  },
  {
   "cell_type": "code",
   "execution_count": 5,
   "id": "1f3c6578",
   "metadata": {},
   "outputs": [
    {
     "data": {
      "text/plain": [
       "array([['अनुज', 'anuj'],\n",
       "       ['निर्णयप्रक्रियेत', 'nirnayaprakriyet']], dtype='<U16')"
      ]
     },
     "execution_count": 5,
     "metadata": {},
     "output_type": "execute_result"
    }
   ],
   "source": [
    "test_data_point"
   ]
  },
  {
   "cell_type": "code",
   "execution_count": 6,
   "id": "a80d4443",
   "metadata": {},
   "outputs": [],
   "source": [
    "devnagri2int,latinList2int = {letter: idx for idx, letter in enumerate(set(\"\".join(merged_data[:, 0])))},{letter: idx for idx, letter in enumerate(set(\"\".join(merged_data[:, 1])))}\n",
    "int2devnagri,int2latinList = {idx: letter for letter, idx in devnagri2int.items()},{idx: letter for letter, idx in latinList2int.items()}"
   ]
  },
  {
   "cell_type": "code",
   "execution_count": 7,
   "id": "d3f52409",
   "metadata": {},
   "outputs": [],
   "source": [
    "data = np.array([[text.split(\"\\t\")[0],text.split(\"\\t\")[1][:-1]] for text in lines if not text.split(\"\\t\")[0] == '</s>'])"
   ]
  },
  {
   "cell_type": "code",
   "execution_count": 8,
   "id": "ab5aa985",
   "metadata": {},
   "outputs": [],
   "source": [
    "# Update the vocabularies\n",
    "devnagri2int, int2devnagri = create_mappings(set(\"\".join(merged_data[:, 0])))\n",
    "latin2int, int2latin = create_mappings(set(\"\".join(merged_data[:, 1])))"
   ]
  },
  {
   "cell_type": "code",
   "execution_count": 9,
   "id": "19098b1d",
   "metadata": {},
   "outputs": [],
   "source": [
    "class LangDataset(Dataset):\n",
    "    def __init__(self,type:str):\n",
    "        types = {\"train\":train_data,\"val\":val_data,\"test\":test_data, \"test_ponit\":test_data_point}\n",
    "        data = types[type]\n",
    "        self.X,self.Y,self.X_encoded,self.Y_encoded = [],[],[],[]\n",
    "        for word in data:\n",
    "            self.X.append(word[1])\n",
    "            self.Y.append(word[0])\n",
    "            self.X_encoded.append(tokenise(word[1],latin2int))\n",
    "            self.Y_encoded.append(tokenise(word[0],devnagri2int))\n",
    "        \n",
    "    def __getitem__(self, idx):\n",
    "        latin_word= self.X[idx]\n",
    "        devnagri_word = self.Y[idx]\n",
    "        latin_tensor = self.X_encoded[idx]\n",
    "        devnagri_tensor = self.Y_encoded[idx]\n",
    "\n",
    "        return latin_word, devnagri_word, latin_tensor, devnagri_tensor\n",
    "\n",
    "    def __len__(self):\n",
    "        return len(self.X)"
   ]
  },
  {
   "cell_type": "code",
   "execution_count": 10,
   "id": "5fdc6bfd",
   "metadata": {},
   "outputs": [],
   "source": [
    "class EncoderRNN(nn.Module):\n",
    "    def __init__(self, vocab_size, embed_size, hidden_size, num_layers, nonlinearity=\"tanh\", dropout_p=0.1, layer=\"rnn\"):\n",
    "        super(EncoderRNN, self).__init__()\n",
    "        self.hidden_size = hidden_size\n",
    "        self.num_layers = num_layers\n",
    "        self.layer = layer\n",
    "        self.embedding = nn.Embedding(vocab_size, embed_size)\n",
    "        \n",
    "        if layer == \"rnn\":\n",
    "            self.cell = nn.RNN(embed_size, hidden_size, num_layers, nonlinearity, batch_first=True) \n",
    "        elif layer == \"gru\":   \n",
    "            self.cell = nn.GRU(embed_size, hidden_size, num_layers, batch_first=True)\n",
    "        elif layer == \"lstm\":\n",
    "            self.cell = nn.LSTM(embed_size, hidden_size, num_layers, batch_first=True)\n",
    "        self.dropout = nn.Dropout(dropout_p)\n",
    "\n",
    "    def forward(self, input, input_lengths, hidden=None):\n",
    "        embedded = self.dropout(self.embedding(input))\n",
    "        packed = nn.utils.rnn.pack_padded_sequence(\n",
    "            embedded, input_lengths, batch_first=True, enforce_sorted=True\n",
    "        )\n",
    "        \n",
    "        if self.layer == \"lstm\":\n",
    "            output, (hidden, cell) = self.cell(packed, hidden)\n",
    "        else:\n",
    "            output, hidden = self.cell(packed, hidden)\n",
    "            cell = None\n",
    "            \n",
    "        # Unpack sequence\n",
    "        output, _ = nn.utils.rnn.pad_packed_sequence(output, batch_first=True)\n",
    "        \n",
    "        return output, hidden, cell"
   ]
  },
  {
   "cell_type": "code",
   "execution_count": 11,
   "id": "3d6473cf",
   "metadata": {},
   "outputs": [],
   "source": [
    "# class BeamSearchNode:\n",
    "#     def __init__(self, hidden_state, cell_state, prev_node, token_id, log_prob, length):\n",
    "#         self.hidden = hidden_state\n",
    "#         self.cell = cell_state\n",
    "#         self.prev = prev_node\n",
    "#         self.token = token_id\n",
    "#         self.logp = log_prob\n",
    "#         self.length = length\n",
    "\n",
    "#     def get_score(self, length_normalize=True):\n",
    "#         if length_normalize:\n",
    "#             return self.logp / float(self.length + 1e-6)\n",
    "#         return self.logp\n",
    "\n",
    "# class DecoderRNN(nn.Module):\n",
    "#     def __init__(self, vocab_size, embed_size, hidden_size, num_layers=1, nonlinearity=\"tanh\", layer=\"rnn\"):\n",
    "#         super().__init__()\n",
    "#         self.hidden_size = hidden_size\n",
    "#         self.num_layers = num_layers\n",
    "#         self.embedding = nn.Embedding(vocab_size, embed_size)\n",
    "#         self.layer = layer\n",
    "        \n",
    "#         if layer == \"rnn\":\n",
    "#             self.cell = nn.RNN(embed_size, hidden_size, num_layers, nonlinearity, batch_first=True) \n",
    "#         elif layer == \"gru\":   \n",
    "#             self.cell = nn.GRU(embed_size, hidden_size, num_layers, batch_first=True)\n",
    "#         elif layer == \"lstm\":\n",
    "#             self.cell = nn.LSTM(embed_size, hidden_size, num_layers, batch_first=True)\n",
    "#         self.fc = nn.Linear(hidden_size, vocab_size)\n",
    "\n",
    "#     def forward(self, encoder_outputs, encoder_hidden, encoder_cell, \n",
    "#                 target_tensor=None, MAX_LENGTH=None):\n",
    "#         batch_size = encoder_outputs.size(0)\n",
    "        \n",
    "#         # Initialize decoder states\n",
    "#         if self.layer == \"lstm\":\n",
    "#             decoder_hidden = encoder_hidden\n",
    "#             decoder_cell = encoder_cell\n",
    "#         else:\n",
    "#             decoder_hidden = encoder_hidden\n",
    "#             decoder_cell = None\n",
    "#         if target_tensor is not None:\n",
    "#             # Teacher forcing: Process all timesteps at once\n",
    "#             MAX_LENGTH = target_tensor.size(1)\n",
    "            \n",
    "#             # Create shifted sequences for teacher forcing\n",
    "#             decoder_input = torch.cat([\n",
    "#                 torch.full((batch_size, 1), devnagri2int[SOS_TOKEN], device=device),\n",
    "#                 target_tensor[:, :-1]\n",
    "#             ], dim=1)\n",
    "            \n",
    "#             # Process entire sequence\n",
    "#             embedded = self.embedding(decoder_input)\n",
    "            \n",
    "#             # Run through RNN\n",
    "#             if self.layer == \"lstm\":\n",
    "#                 decoder_outputs, (decoder_hidden, decoder_cell) = self.cell(embedded, (decoder_hidden, decoder_cell))\n",
    "#             else:\n",
    "#                 decoder_outputs, decoder_hidden = self.cell(embedded, decoder_hidden)\n",
    "#             # Apply output projection\n",
    "#             decoder_outputs = self.fc(decoder_outputs)\n",
    "#             decoder_outputs = F.log_softmax(decoder_outputs, dim=-1)\n",
    "#             return decoder_outputs, decoder_hidden, decoder_cell, None \n",
    "#         else:\n",
    "#             MAX_LENGTH = MAX_LENGTH or 30\n",
    "#             sos = devnagri2int[SOS_TOKEN]\n",
    "#             eos = devnagri2int[EOS_TOKEN]\n",
    "#             # start with all SOS tokens\n",
    "#             input_token = torch.full((batch_size,1), sos,\n",
    "#                                      device=device, dtype=torch.long)\n",
    "#             preds = []\n",
    "#             hidden, cell = decoder_hidden, decoder_cell\n",
    "\n",
    "#             for _ in range(MAX_LENGTH):\n",
    "#                 emb = self.embedding(input_token)    # (B,1,E)\n",
    "#                 if self.layer == \"lstm\":\n",
    "#                     out, (hidden, cell) = self.cell(emb, (hidden, cell))\n",
    "#                 else:\n",
    "#                     out, hidden = self.cell(emb, hidden)\n",
    "#                 logits = self.fc(out.squeeze(1))     # (B, V)\n",
    "#                 next_tok = logits.argmax(dim=-1, keepdim=True)  # (B,1)\n",
    "#                 preds.append(next_tok)\n",
    "#                 input_token = next_tok\n",
    "#                 # once all batches have produced EOS, we can break early\n",
    "#                 if (next_tok == eos).all():\n",
    "#                     break\n",
    "\n",
    "#             # concatenate predictions into (B, T)\n",
    "#             predicted_seqs = torch.cat(preds, dim=1)\n",
    "#             return predicted_seqs, None, None, None    \n",
    "        \n",
    "#     def forward_step(self, x, hidden):\n",
    "#         out = self.embedding(x)\n",
    "        \n",
    "#         if self.layer == \"lstm\":\n",
    "#             if hidden is None:\n",
    "#                 h0 = torch.zeros(self.num_layers, x.size(0), self.hidden_size).to(x.device)\n",
    "#                 c0 = torch.zeros(self.num_layers, x.size(0), self.hidden_size).to(x.device)\n",
    "#                 hidden = (h0, c0)\n",
    "#             output, (hidden, cell) = self.cell(out, hidden)\n",
    "#             output = self.fc(output)\n",
    "#             return output, hidden, cell\n",
    "#         else:\n",
    "#             if hidden is None:\n",
    "#                 hidden = torch.zeros(self.num_layers, x.size(0), self.hidden_size).to(x.device)\n",
    "#                 output, hidden = self.cell(out, hidden)\n",
    "#             else:\n",
    "#                 output, hidden = self.cell(out, hidden[0])\n",
    "#             output = self.fc(output)\n",
    "#             return output, hidden, None"
   ]
  },
  {
   "cell_type": "code",
   "execution_count": 12,
   "id": "a01c27dd",
   "metadata": {},
   "outputs": [],
   "source": [
    "import torch\n",
    "import torch.nn as nn\n",
    "import torch.nn.functional as F\n",
    "import random\n",
    "\n",
    "class BeamSearchNode:\n",
    "    def __init__(self, hidden_state, cell_state, prev_node, token_id, log_prob, length):\n",
    "        self.hidden = hidden_state\n",
    "        self.cell   = cell_state\n",
    "        self.prev   = prev_node\n",
    "        self.token  = token_id\n",
    "        self.logp   = log_prob\n",
    "        self.length = length\n",
    "\n",
    "    def get_score(self, length_normalize=True):\n",
    "        return (self.logp / (self.length + 1e-6)) if length_normalize else self.logp\n",
    "\n",
    "    def __lt__(self, other):\n",
    "        return self.get_score() < other.get_score()\n",
    "\n",
    "\n",
    "class DecoderRNN(nn.Module):\n",
    "    def __init__(self,vocab_size,embed_size,hidden_size,num_layers=1,nonlinearity=\"tanh\",layer=\"rnn\",pad_token_id=0):\n",
    "        super().__init__()\n",
    "        self.hidden_size  = hidden_size\n",
    "        self.num_layers   = num_layers\n",
    "        self.layer        = layer\n",
    "        self.embedding    = nn.Embedding(vocab_size, embed_size, padding_idx=pad_token_id)\n",
    "        self.vocab_size   = vocab_size\n",
    "        self.pad_token_id = pad_token_id\n",
    "\n",
    "        if layer == \"rnn\":\n",
    "            self.cell = nn.RNN(embed_size, hidden_size, num_layers,\n",
    "                               nonlinearity, batch_first=True)\n",
    "        elif layer == \"gru\":\n",
    "            self.cell = nn.GRU(embed_size, hidden_size, num_layers,\n",
    "                               batch_first=True)\n",
    "        elif layer == \"lstm\":\n",
    "            self.cell = nn.LSTM(embed_size, hidden_size, num_layers,\n",
    "                                batch_first=True)\n",
    "\n",
    "        self.fc = nn.Linear(hidden_size, vocab_size)\n",
    "\n",
    "\n",
    "    def forward(self,encoder_outputs,encoder_hidden,encoder_cell, target_tensor=None,MAX_LENGTH=None,teacher_forcing_prob=0.5,beam_width=5):\n",
    "        B = encoder_outputs.size(0)\n",
    "        device = encoder_outputs.device\n",
    "\n",
    "        # 1) init states\n",
    "        if self.layer == \"lstm\":\n",
    "            decoder_hidden = encoder_hidden.contiguous()\n",
    "            decoder_cell   = encoder_cell.contiguous()\n",
    "        else:\n",
    "            decoder_hidden = encoder_hidden.contiguous()\n",
    "            decoder_cell   = None\n",
    "\n",
    "        # 2) training branch\n",
    "        if target_tensor is not None:\n",
    "            T = target_tensor.size(1)\n",
    "            input_tok = torch.full((B, 1),\n",
    "                                   devnagri2int[SOS_TOKEN],\n",
    "                                   dtype=torch.long,\n",
    "                                   device=device)\n",
    "            outputs = []\n",
    "            for t in range(T):\n",
    "                emb = self.embedding(input_tok)\n",
    "                if self.layer == \"lstm\":\n",
    "                    h = decoder_hidden.contiguous()\n",
    "                    c = decoder_cell.contiguous()\n",
    "                    out, (decoder_hidden, decoder_cell) = self.cell(emb, (h, c))\n",
    "                else:\n",
    "                    hx = decoder_hidden.contiguous()\n",
    "                    out, decoder_hidden = self.cell(emb, hx)\n",
    "\n",
    "                logits = self.fc(out.squeeze(1))\n",
    "                logp   = F.log_softmax(logits, dim=1)\n",
    "                outputs.append(logp.unsqueeze(1))\n",
    "\n",
    "                if random.random() < teacher_forcing_prob:\n",
    "                    input_tok = target_tensor[:, t].unsqueeze(1)\n",
    "                else:\n",
    "                    input_tok = logp.argmax(1).unsqueeze(1)\n",
    "\n",
    "            return torch.cat(outputs, dim=1), decoder_hidden, decoder_cell, None\n",
    "\n",
    "        # 3) inference with **batched** beam search\n",
    "        else:\n",
    "            K = beam_width\n",
    "            V = self.vocab_size\n",
    "            max_len = MAX_LENGTH or 30\n",
    "            sos = devnagri2int[SOS_TOKEN]\n",
    "            eos = devnagri2int[EOS_TOKEN]\n",
    "\n",
    "            # a) expand hidden/cell: (layers, B, H) → (layers, B*K, H)\n",
    "            if self.layer == \"lstm\":\n",
    "                h0 = encoder_hidden.contiguous().unsqueeze(2).repeat(1, 1, K, 1)\n",
    "                c0 = encoder_cell.contiguous().unsqueeze(2).repeat(1, 1, K, 1)\n",
    "                hidden = h0.view(self.num_layers, B*K, self.hidden_size)\n",
    "                cell   = c0.view(self.num_layers, B*K, self.hidden_size)\n",
    "            else:\n",
    "                h0 = encoder_hidden.contiguous().unsqueeze(2).repeat(1, 1, K, 1)\n",
    "                hidden = h0.view(self.num_layers, B*K, self.hidden_size)\n",
    "                cell   = None\n",
    "\n",
    "            # b) init scores & sequences\n",
    "            scores = torch.zeros(B, K, device=device)\n",
    "            scores[:,1:] = -1e9\n",
    "            seqs = torch.full((B, K, max_len),\n",
    "                              self.pad_token_id,\n",
    "                              dtype=torch.long,\n",
    "                              device=device)\n",
    "            seqs[:,:,0] = sos\n",
    "            input_tok = torch.full((B*K,1), sos, dtype=torch.long, device=device)\n",
    "\n",
    "            # c) step time\n",
    "            for t in range(1, max_len):\n",
    "                emb = self.embedding(input_tok)  # (B*K,1,E)\n",
    "                if self.layer == \"lstm\":\n",
    "                    h_in, c_in = hidden.contiguous(), cell.contiguous()\n",
    "                    out, (h_out, c_out) = self.cell(emb, (h_in, c_in))\n",
    "                else:\n",
    "                    h_in = hidden.contiguous()\n",
    "                    out, h_out = self.cell(emb, h_in)\n",
    "                    c_out = None\n",
    "\n",
    "                logits   = self.fc(out.squeeze(1))            # (B*K, V)\n",
    "                logp_all = F.log_softmax(logits, dim=-1).view(B, K, V)\n",
    "\n",
    "                total_scores = scores.unsqueeze(2) + logp_all  # (B, K, V)\n",
    "                flat = total_scores.view(B, -1)               # (B, K*V)\n",
    "                top_scores, top_idx = flat.topk(K, dim=-1)    # (B, K)\n",
    "\n",
    "                beam_idx  = top_idx // V                      # (B, K)\n",
    "                token_idx = top_idx %  V                      # (B, K)\n",
    "\n",
    "                # reorder hidden\n",
    "                h_beams = h_out.view(self.num_layers, B, K, self.hidden_size)\n",
    "                hidden  = h_beams.gather(\n",
    "                    2,\n",
    "                    beam_idx.unsqueeze(0).unsqueeze(-1)\n",
    "                            .expand(self.num_layers, B, K, self.hidden_size)\n",
    "                ).view(self.num_layers, B*K, self.hidden_size)\n",
    "\n",
    "                if self.layer == \"lstm\":\n",
    "                    c_beams = c_out.view(self.num_layers, B, K, self.hidden_size)\n",
    "                    cell    = c_beams.gather(\n",
    "                        2,\n",
    "                        beam_idx.unsqueeze(0).unsqueeze(-1)\n",
    "                                .expand(self.num_layers, B, K, self.hidden_size)\n",
    "                    ).view(self.num_layers, B*K, self.hidden_size)\n",
    "\n",
    "                scores = top_scores  # update\n",
    "\n",
    "                # reorder & append seqs\n",
    "                seqs = seqs.gather(\n",
    "                    1,\n",
    "                    beam_idx.unsqueeze(-1)\n",
    "                            .expand(B, K, max_len)\n",
    "                )\n",
    "                seqs[:,:,t] = token_idx\n",
    "                input_tok = token_idx.view(B*K,1)\n",
    "\n",
    "                if (token_idx == eos).all():\n",
    "                    break\n",
    "\n",
    "            # d) select best beam\n",
    "            best = scores.argmax(dim=-1)  # (B,)\n",
    "            preds = seqs[torch.arange(B, device=device), best]  # (B, max_len)\n",
    "\n",
    "            return preds, None, None, None\n"
   ]
  },
  {
   "cell_type": "code",
   "execution_count": 13,
   "id": "da88a48c",
   "metadata": {},
   "outputs": [],
   "source": [
    "# class BahdanauAttention(nn.Module):\n",
    "#     def __init__(self, hidden_size):\n",
    "#         super().__init__()\n",
    "#         self.Wa = nn.Linear(hidden_size, hidden_size, bias=False)\n",
    "#         self.Ua = nn.Linear(hidden_size, hidden_size, bias=False)\n",
    "#         self.Va = nn.Linear(hidden_size, 1)\n",
    "\n",
    "#     def forward(self, decoder_hidden, encoder_outputs):\n",
    "        \n",
    "#         query = decoder_hidden[-1].unsqueeze(1)  # (batch, 1, hidden)\n",
    "        \n",
    "#         # Proper additive attention\n",
    "#         energy = torch.tanh(self.Wa(query) + self.Ua(encoder_outputs))  # (batch, seq_len, hidden)\n",
    "#         scores = self.Va(energy).squeeze(-1)  # (batch, seq_len)\n",
    "        \n",
    "#         weights = F.softmax(scores, dim=1).unsqueeze(1)  # (batch, 1, seq_len)\n",
    "#         context = torch.bmm(weights, encoder_outputs)  # (batch, 1, hidden)\n",
    "        \n",
    "#         return context, weights\n",
    "\n",
    "# class AttnDecoderRNN(nn.Module):\n",
    "#     def __init__(self, vocab_size, embed_size, hidden_size, num_layers=1, nonlinearity=\"tanh\", layer=\"lstm\"):\n",
    "#         super().__init__()\n",
    "#         self.hidden_size = hidden_size\n",
    "#         self.embed_size = embed_size\n",
    "#         self.num_layers = num_layers\n",
    "#         self.layer = layer\n",
    "        \n",
    "#         self.embedding = nn.Embedding(vocab_size, embed_size)\n",
    "#         self.attention = BahdanauAttention(hidden_size)\n",
    "        \n",
    "#         # Input size is embed_size + hidden_size (for attention context)\n",
    "#         if layer == \"lstm\":\n",
    "#             self.rnn = nn.LSTM(embed_size + hidden_size, hidden_size, \n",
    "#                               num_layers, batch_first=True)\n",
    "#         elif layer == \"gru\":\n",
    "#             self.rnn = nn.GRU(embed_size + hidden_size, hidden_size,\n",
    "#                              num_layers, batch_first=True)\n",
    "#         else:  # rnn\n",
    "#             self.rnn = nn.RNN(embed_size + hidden_size, hidden_size,\n",
    "#                             num_layers, nonlinearity, batch_first=True)\n",
    "            \n",
    "#         self.fc = nn.Linear(hidden_size, vocab_size)\n",
    "        \n",
    "#     def forward(self, encoder_outputs, encoder_hidden, encoder_cell, \n",
    "#                 target_tensor=None, MAX_LENGTH=None):\n",
    "#         batch_size = encoder_outputs.size(0)\n",
    "        \n",
    "#         # Initialize decoder states\n",
    "#         if self.layer == \"lstm\":\n",
    "#             decoder_hidden = encoder_hidden\n",
    "#             decoder_cell = encoder_cell\n",
    "#         else:\n",
    "#             decoder_hidden = encoder_hidden\n",
    "#             decoder_cell = None\n",
    "        \n",
    "#         # Determine sequence length\n",
    "#         if target_tensor is not None:\n",
    "#             MAX_LENGTH = target_tensor.size(1)\n",
    "#         else:\n",
    "#             MAX_LENGTH = MAX_LENGTH or 30\n",
    "            \n",
    "#         # Create initial input tensor with SOS tokens\n",
    "#         decoder_input = torch.full((batch_size, 1), \n",
    "#                                  devnagri2int[SOS_TOKEN], \n",
    "#                                  device=device)\n",
    "        \n",
    "#         if target_tensor is not None:\n",
    "#             # Teacher forcing: Process all timesteps at once\n",
    "#             # Shift target tensor right by 1 to include SOS token at start\n",
    "#             decoder_input = torch.cat([\n",
    "#                 decoder_input,\n",
    "#                 target_tensor[:, :-1]\n",
    "#             ], dim=1)\n",
    "            \n",
    "#             # Process entire sequence\n",
    "#             embedded = self.embedding(decoder_input)  # (batch, seq_len, embed_size)\n",
    "            \n",
    "#             # Calculate attention for all timesteps\n",
    "#             context_vectors = []\n",
    "#             attentions = []\n",
    "            \n",
    "#             # Process each timestep (can be parallelized further with einsum)\n",
    "#             for t in range(MAX_LENGTH):\n",
    "#                 context, attn = self.attention(decoder_hidden, encoder_outputs)\n",
    "#                 context_vectors.append(context)\n",
    "#                 attentions.append(attn)\n",
    "            \n",
    "#             # Stack contexts and attentions\n",
    "#             context_vectors = torch.cat(context_vectors, dim=1)\n",
    "#             attentions = torch.cat(attentions, dim=1)\n",
    "            \n",
    "#             # Combine embeddings with context vectors\n",
    "#             rnn_input = torch.cat([embedded, context_vectors], dim=2)\n",
    "            \n",
    "#             # Process entire sequence through RNN\n",
    "#             if self.layer == \"lstm\":\n",
    "#                 outputs, (decoder_hidden, decoder_cell) = self.rnn(rnn_input, (decoder_hidden, decoder_cell))\n",
    "#             else:\n",
    "#                 outputs, decoder_hidden = self.rnn(rnn_input, decoder_hidden)\n",
    "            \n",
    "#             # Apply output projection\n",
    "#             decoder_outputs = self.fc(outputs)\n",
    "            \n",
    "#         else:\n",
    "#             # Inference mode: Generate one token at a time\n",
    "#             decoder_outputs = []\n",
    "#             attentions = []\n",
    "            \n",
    "#             for t in range(MAX_LENGTH):\n",
    "#                 # Single timestep processing\n",
    "#                 decoder_output, decoder_hidden, decoder_cell, attn = self.forward_step(\n",
    "#                     decoder_input, decoder_hidden, decoder_cell, encoder_outputs)\n",
    "                \n",
    "#                 decoder_outputs.append(decoder_output)\n",
    "#                 attentions.append(attn)\n",
    "                \n",
    "#                 # Get next input token\n",
    "#                 decoder_input = decoder_output.argmax(dim=-1)\n",
    "                \n",
    "#             decoder_outputs = torch.cat(decoder_outputs, dim=1)\n",
    "#             attentions = torch.cat(attentions, dim=1)\n",
    "            \n",
    "#         # Apply log softmax\n",
    "#         decoder_outputs = F.log_softmax(decoder_outputs, dim=-1)\n",
    "        \n",
    "#         return decoder_outputs, decoder_hidden, decoder_cell, attentions\n",
    "    \n",
    "#     def forward_step(self, input, hidden, cell, encoder_outputs):\n",
    "#         embedded = self.embedding(input)  # (batch, 1, embed)\n",
    "        \n",
    "#         # Calculate attention\n",
    "#         context, attn_weights = self.attention(hidden, encoder_outputs)\n",
    "        \n",
    "#         # Combine input with context\n",
    "#         rnn_input = torch.cat((embedded, context), dim=2)\n",
    "        \n",
    "#         # Add dropout\n",
    "#         rnn_input = F.dropout(rnn_input, p=0.3, training=self.training)\n",
    "        \n",
    "#         # RNN step\n",
    "#         if self.layer == \"lstm\":\n",
    "#             output, (hidden, cell) = self.rnn(rnn_input, (hidden, cell))\n",
    "#         else:\n",
    "#             output, hidden = self.rnn(rnn_input, hidden)\n",
    "        \n",
    "#         output = self.fc(output)\n",
    "        \n",
    "#         return output, hidden, cell, attn_weights\n"
   ]
  },
  {
   "cell_type": "code",
   "execution_count": 14,
   "id": "86b50054",
   "metadata": {},
   "outputs": [],
   "source": [
    "import torch\n",
    "import torch.nn as nn\n",
    "import torch.nn.functional as F\n",
    "import random\n",
    "\n",
    "class BeamSearchNode:\n",
    "    def __init__(self, hidden_state, cell_state, prev_node, token_id, log_prob, length):\n",
    "        self.hidden = hidden_state\n",
    "        self.cell   = cell_state\n",
    "        self.prev   = prev_node\n",
    "        self.token  = token_id\n",
    "        self.logp   = log_prob\n",
    "        self.length = length\n",
    "\n",
    "    def get_score(self, length_normalize=True):\n",
    "        return (self.logp / (self.length + 1e-6)) if length_normalize else self.logp\n",
    "\n",
    "    def __lt__(self, other):\n",
    "        return self.get_score() < other.get_score()\n",
    "\n",
    "\n",
    "class BahdanauAttention(nn.Module):\n",
    "    def __init__(self, hidden_size):\n",
    "        super().__init__()\n",
    "        self.Wa = nn.Linear(hidden_size, hidden_size, bias=False)\n",
    "        self.Ua = nn.Linear(hidden_size, hidden_size, bias=False)\n",
    "        self.Va = nn.Linear(hidden_size, 1)\n",
    "\n",
    "    def forward(self, decoder_hidden, encoder_outputs):\n",
    "        h = decoder_hidden[0] if isinstance(decoder_hidden, tuple) else decoder_hidden\n",
    "        query = h[-1].unsqueeze(1)  # (B, 1, H)\n",
    "        energy = torch.tanh(self.Wa(query) + self.Ua(encoder_outputs))  # (B, T, H)\n",
    "        scores = self.Va(energy).squeeze(-1)  # (B, T)\n",
    "        weights = F.softmax(scores, dim=1).unsqueeze(1)  # (B,1,T)\n",
    "        context = torch.bmm(weights, encoder_outputs)  # (B,1,H)\n",
    "        return context, weights\n",
    "\n",
    "\n",
    "class AttnDecoderRNN(nn.Module):\n",
    "    def __init__(self, vocab_size, embed_size, hidden_size,\n",
    "                 num_layers=1, nonlinearity=\"tanh\", layer=\"lstm\", pad_token_id=0):\n",
    "        super().__init__()\n",
    "        self.hidden_size = hidden_size\n",
    "        self.num_layers = num_layers\n",
    "        self.layer = layer\n",
    "        self.embedding = nn.Embedding(vocab_size, embed_size, padding_idx=pad_token_id)\n",
    "        self.attention = BahdanauAttention(hidden_size)\n",
    "        self.pad_token_id = pad_token_id\n",
    "        self.vocab_size = vocab_size\n",
    "        rnn_input_dim = embed_size + hidden_size\n",
    "        cell_cls = {\n",
    "            'lstm': nn.LSTM,\n",
    "            'gru': nn.GRU,\n",
    "            'rnn': lambda *args, **kwargs: nn.RNN(*args, nonlinearity=nonlinearity, **kwargs)\n",
    "        }[layer]\n",
    "        self.rnn = cell_cls(rnn_input_dim, hidden_size, num_layers, batch_first=True)\n",
    "        self.fc = nn.Linear(hidden_size, vocab_size)\n",
    "\n",
    "    def forward(self, encoder_outputs, encoder_hidden, encoder_cell=None,\n",
    "                target_tensor=None, MAX_LENGTH=None, teacher_forcing_prob=0.5,\n",
    "                beam_width=5):\n",
    "        B, T_enc, _ = encoder_outputs.size()\n",
    "        device = encoder_outputs.device\n",
    "        # init decoder state\n",
    "        if self.layer == 'lstm':\n",
    "            dec_hidden = encoder_hidden.contiguous()\n",
    "            dec_cell = encoder_cell.contiguous()\n",
    "        else:\n",
    "            dec_hidden = encoder_hidden.contiguous()\n",
    "            dec_cell = None\n",
    "\n",
    "        if target_tensor is not None:\n",
    "            # TRAINING with partial teacher forcing\n",
    "            T = target_tensor.size(1)\n",
    "            input_tok = torch.full((B,), devnagri2int[SOS_TOKEN], dtype=torch.long, device=device)\n",
    "            outputs = []\n",
    "            for t in range(T):\n",
    "                emb = self.embedding(input_tok).unsqueeze(1)  # (B,1,E)\n",
    "                context, _ = self.attention(\n",
    "                    dec_hidden, encoder_outputs)\n",
    "                rnn_input = torch.cat([emb, context], dim=2)\n",
    "\n",
    "                if self.layer == 'lstm':\n",
    "                    h, c = dec_hidden.contiguous(), dec_cell.contiguous()\n",
    "                    out, (dec_hidden, dec_cell) = self.rnn(rnn_input, (h, c))\n",
    "                else:\n",
    "                    h = dec_hidden.contiguous()\n",
    "                    out, dec_hidden = self.rnn(rnn_input, h)\n",
    "                logits = self.fc(out.squeeze(1))\n",
    "                logp = F.log_softmax(logits, dim=1)\n",
    "                outputs.append(logp.unsqueeze(1))\n",
    "                teacher = random.random() < teacher_forcing_prob\n",
    "                top1 = logp.argmax(1)\n",
    "                input_tok = target_tensor[:, t] if teacher else top1\n",
    "            return torch.cat(outputs, dim=1), dec_hidden, dec_cell, None\n",
    "\n",
    "        # INFERENCE with batched beam search\n",
    "        else:\n",
    "            K = beam_width\n",
    "            max_len = MAX_LENGTH or 30\n",
    "            sos = devnagri2int[SOS_TOKEN]; eos = devnagri2int[EOS_TOKEN]\n",
    "            # expand states: (layers,B,H)->(layers,B*K,H)\n",
    "            def expand(x): return x.unsqueeze(2).repeat(1,1,K,1)\n",
    "            if self.layer=='lstm':\n",
    "                h0, c0 = expand(dec_hidden), expand(dec_cell)\n",
    "                hidden = h0.view(self.num_layers, B*K, self.hidden_size)\n",
    "                cell = c0.view(self.num_layers, B*K, self.hidden_size)\n",
    "            else:\n",
    "                h0 = expand(dec_hidden)\n",
    "                hidden, cell = h0.view(self.num_layers,B*K,self.hidden_size), None\n",
    "            # beam data\n",
    "            scores = torch.zeros(B, K, device=device);\n",
    "            scores[:,1:] = -1e9\n",
    "            seqs = torch.full((B,K,max_len), self.pad_token_id, device=device, dtype=torch.long)\n",
    "            seqs[:,:,0] = sos\n",
    "            input_tok = torch.full((B*K,), sos, dtype=torch.long, device=device)\n",
    "            # time loop\n",
    "            for t in range(1, max_len):\n",
    "                emb = self.embedding(input_tok).unsqueeze(1)  # (B*K,1,E)\n",
    "                # attention per beam\n",
    "                h_layer = hidden.view(self.num_layers,B,K,self.hidden_size)[-1]\n",
    "                h_flat = h_layer.view(B*K,self.hidden_size).unsqueeze(0)\n",
    "                enc_flat = encoder_outputs.unsqueeze(1).repeat(1,K,1,1).view(B*K,T_enc,self.hidden_size)\n",
    "                context, _ = self.attention(h_flat, enc_flat)\n",
    "                rnn_in = torch.cat([emb, context.view(B*K,1,self.hidden_size)], dim=2)\n",
    "                # RNN step\n",
    "                if self.layer=='lstm':\n",
    "                    out,(h_new,c_new)=self.rnn(rnn_in,(hidden.contiguous(),cell.contiguous()))\n",
    "                else:\n",
    "                    out,h_new=self.rnn(rnn_in,hidden.contiguous()); c_new=None\n",
    "                # scores\n",
    "                logp = F.log_softmax(self.fc(out.squeeze(1)),dim=1).view(B,K,self.vocab_size)\n",
    "                total = scores.unsqueeze(2) + logp\n",
    "                flat = total.view(B,-1)\n",
    "                top_scores, top_idx = flat.topk(K,dim=-1)\n",
    "                beam_idx, token_idx = top_idx//self.vocab_size, top_idx%self.vocab_size\n",
    "                # reorder hidden/cell\n",
    "                def gather_beams(x):\n",
    "                    xb = x.view(self.num_layers,B,K,self.hidden_size)\n",
    "                    return xb.gather(2,beam_idx.unsqueeze(0).unsqueeze(-1)\n",
    "                                    .expand(self.num_layers,B,K,self.hidden_size))\n",
    "                hidden = gather_beams(h_new).view(self.num_layers,B*K,self.hidden_size)\n",
    "                if cell is not None:\n",
    "                    cell = gather_beams(c_new).view(self.num_layers,B*K,self.hidden_size)\n",
    "                scores = top_scores\n",
    "                seqs = seqs.gather(1,beam_idx.unsqueeze(-1).expand(B,K,max_len))\n",
    "                seqs[:,:,t] = token_idx\n",
    "                input_tok = token_idx.view(B*K)\n",
    "                if (token_idx==eos).all(): break\n",
    "            best = scores.argmax(dim=-1)\n",
    "            preds = seqs[torch.arange(B,device=device),best]\n",
    "            return preds, None, None, None"
   ]
  },
  {
   "cell_type": "code",
   "execution_count": 15,
   "id": "d110073e",
   "metadata": {},
   "outputs": [],
   "source": [
    "def train_epoch(dataloader, encoder, decoder, encoder_optimizer, decoder_optimizer):\n",
    "    total_loss = 0\n",
    "    for data in dataloader:\n",
    "        _, _, input_tensor, target_tensor, input_lengths, target_lengths = data\n",
    "        encoder_optimizer.zero_grad()\n",
    "        decoder_optimizer.zero_grad()\n",
    "\n",
    "        # Encoder forward\n",
    "        encoder_outputs, encoder_hidden, encoder_cell = encoder(input_tensor, input_lengths)\n",
    "        # Decoder forward (use target tensor without last token)\n",
    "        decoder_outputs, _, _, attention = decoder(\n",
    "            encoder_outputs, encoder_hidden, encoder_cell,\n",
    "            target_tensor=target_tensor[:, :-1] if target_tensor is not None else None\n",
    "        )\n",
    "        \n",
    "        # Calculate loss with masking\n",
    "        loss = masked_cross_entropy(\n",
    "            decoder_outputs, \n",
    "            target_tensor[:, 1:],  # Shift targets\n",
    "            devnagri2int[PAD_TOKEN]\n",
    "        )\n",
    "        \n",
    "        loss.backward()\n",
    "        \n",
    "        # Gradient clipping\n",
    "        torch.nn.utils.clip_grad_norm_(encoder.parameters(), 1.0)\n",
    "        torch.nn.utils.clip_grad_norm_(decoder.parameters(), 1.0)\n",
    "        \n",
    "        encoder_optimizer.step()\n",
    "        decoder_optimizer.step()\n",
    "\n",
    "        total_loss += loss.item()\n",
    "    \n",
    "    return total_loss / len(dataloader)\n",
    "\n",
    "def masked_cross_entropy(logits, target, pad_idx):\n",
    "    # logits: (batch_size, seq_len, vocab_size)\n",
    "    # target: (batch_size, seq_len)\n",
    "    mask = (target != pad_idx).float()\n",
    "    logits_flat = logits.view(-1, logits.size(-1))\n",
    "    target_flat = target.reshape(-1)\n",
    "    loss = F.nll_loss(logits_flat, target_flat, reduction='none')\n",
    "    total_non_pad = mask.sum()\n",
    "    loss = (loss * mask.view(-1)).sum() / (total_non_pad + 1e-6)\n",
    "    return loss\n",
    "\n",
    "def train(train_dataloader, val_dataloader,encoder, decoder, n_epochs, teacher_forcing_prob,beam_width,learning_rate=0.001,print_every=1, plot_every=100,iswandb=False):\n",
    "    encoder.train() \n",
    "    decoder.train()\n",
    "    start = time.time()\n",
    "    plot_losses = []\n",
    "    print_loss_total = 0  # Reset every print_every\n",
    "    plot_loss_total = 0  # Reset every plot_every\n",
    "\n",
    "    encoder_optimizer = optim.Adam(encoder.parameters(), lr=learning_rate)\n",
    "    decoder_optimizer = optim.Adam(decoder.parameters(), lr=learning_rate)\n",
    "    for epoch in range(1, n_epochs + 1):\n",
    "        loss = train_epoch(train_dataloader, encoder, decoder, encoder_optimizer, decoder_optimizer)\n",
    "        print_loss_total += loss\n",
    "        plot_loss_total += loss\n",
    "\n",
    "        if epoch % print_every == 0:\n",
    "            print_loss_avg = print_loss_total / print_every\n",
    "            print_loss_total = 0\n",
    "            # print(f\"Word Validation Accuracy {evaluate_model(encoder,decoder,val_dataloader,int2devnagri,device,False)}\")\n",
    "            print('%s (%d %d%%) %.4f' % (timeSince(start, epoch / n_epochs),\n",
    "                                        epoch, epoch / n_epochs * 100, print_loss_avg))\n",
    "        if epoch % plot_every == 0:\n",
    "            plot_loss_avg = plot_loss_total / plot_every\n",
    "            plot_losses.append(plot_loss_avg)\n",
    "            plot_loss_total = 0\n",
    "        \n",
    "        if iswandb:\n",
    "            wandb.log({\"train_loss\": print_loss_avg,\n",
    "                    #    \"train_accuracy\":evaluate_model(encoder=encoder,decoder=decoder,dataloader=train_dataloader,int2devnagri=int2devnagri,device=device,show_confusion=False,iswandb=iswandb,teacher_forcing_prob=teacher_forcing_prob,beam_width=beam_width),\n",
    "                       \"val_accuracy\":evaluate_model(encoder=encoder,decoder=decoder,dataloader=val_dataloader,int2devnagri=int2devnagri,device=device,show_confusion=True,iswandb=iswandb,teacher_forcing_prob=teacher_forcing_prob,beam_width=beam_width), \n",
    "                       \"epoch\": epoch}\n",
    "            )\n",
    "    showPlot(plot_losses)\n",
    "\n",
    "# def evaluate_model(encoder, decoder, dataloader, int2devnagri, device, show_confusion=True):\n",
    "#     # Set up plotting with proper font handling\n",
    "#     font_path = 'C:/Users/aksha/Downloads/Noto_Sans_Devanagari/NotoSansDevanagari-VariableFont_wdth,wght.ttf'  # Adjust path if needed\n",
    "#     font_manager.fontManager.addfont(font_path)\n",
    "#     plt.rcParams['font.family'] = 'Noto Sans Devanagari'\n",
    "    \n",
    "#     encoder.eval()\n",
    "#     decoder.eval()\n",
    "\n",
    "#     correct_words = 0\n",
    "#     total_words = 0\n",
    "#     y_true = []\n",
    "#     y_pred = []\n",
    "\n",
    "#     with torch.no_grad():\n",
    "#         for _, _, inputs, targets, input_lengths, _ in dataloader:\n",
    "#             inputs = inputs.to(device)\n",
    "#             targets = targets.to(device)\n",
    "\n",
    "#             encoder_outputs, encoder_hidden, encoder_cell = encoder(inputs, input_lengths)\n",
    "#             encoder_hidden = tuple(h.to(device) for h in encoder_hidden) if isinstance(encoder_hidden, tuple) \\\n",
    "#                             else encoder_hidden.to(device)\n",
    "#             encoder_cell = encoder_cell.to(device) if encoder_cell is not None else None\n",
    "#             decoder_outputs, _, _, _ = decoder(encoder_outputs, encoder_hidden, encoder_cell, beam_width=4)\n",
    "\n",
    "#             predicted_indices = decoder_outputs.argmax(dim=-1)\n",
    "\n",
    "#             for pred_seq, true_seq in zip(predicted_indices, targets):\n",
    "#                 pred_list = [i.item() for i in pred_seq if i.item() != 0]\n",
    "#                 true_list = [i.item() for i in true_seq if i.item() != 0]\n",
    "\n",
    "#                 pred_str = ''.join([int2devnagri[i] for i in pred_list])\n",
    "#                 true_str = ''.join([int2devnagri[i] for i in true_list])\n",
    "#                 if pred_str == true_str:\n",
    "#                     correct_words += 1\n",
    "#                 total_words += 1\n",
    "\n",
    "#                 min_len = min(len(pred_list), len(true_list))\n",
    "#                 y_true.extend(true_list[:min_len])\n",
    "#                 y_pred.extend(pred_list[:min_len])\n",
    "\n",
    "#     word_accuracy = correct_words / total_words if total_words > 0 else 0.0\n",
    "    \n",
    "#     fig = plt.figure(figsize=(18, 8), constrained_layout=True)\n",
    "    \n",
    "#     # Word Accuracy Plot (Left)\n",
    "#     ax1 = fig.add_subplot(1, 2, 1)\n",
    "#     bars = ax1.bar(['Correct', 'Incorrect'], \n",
    "#                  [correct_words, total_words - correct_words],\n",
    "#                  color=['#4CAF50', '#F44336'])\n",
    "    \n",
    "#     # Add value labels on bars\n",
    "#     for bar in bars:\n",
    "#         height = bar.get_height()\n",
    "#         ax1.text(bar.get_x() + bar.get_width()/2., height,\n",
    "#                 f'{height:,}\\n({height/total_words:.1%})',\n",
    "#                 ha='center', va='bottom')\n",
    "    \n",
    "#     ax1.set_title(f'Word Accuracy: {word_accuracy:.2%}\\nTotal Words: {total_words:,}', pad=20)\n",
    "#     ax1.set_ylabel('Count', labelpad=10)\n",
    "#     ax1.grid(axis='y', linestyle='--', alpha=0.7)\n",
    "    \n",
    "#     # Confusion Matrix (Right)\n",
    "#     if show_confusion and y_true and y_pred:\n",
    "#         ax2 = fig.add_subplot(1, 2, 2)\n",
    "        \n",
    "#         labels = sorted(list(set(y_true + y_pred)))\n",
    "#         cm = confusion_matrix(y_true, y_pred, labels=labels)\n",
    "#         cm_normalized = cm.astype('float') / cm.sum(axis=1)[:, np.newaxis]\n",
    "        \n",
    "#         # Plot every nth character to reduce crowding\n",
    "#         step = max(1, len(labels)//20)  # Show ~20 labels max\n",
    "#         display_labels = [int2devnagri[label] if i%step==0 else '' \n",
    "#                          for i, label in enumerate(labels)]\n",
    "        \n",
    "#         sns.heatmap(cm_normalized, ax=ax2,\n",
    "#                    cmap='YlOrRd',\n",
    "#                    cbar_kws={'label': 'Accuracy Percentage', 'shrink': 0.7},\n",
    "#                    xticklabels=display_labels,\n",
    "#                    yticklabels=display_labels,\n",
    "#                    annot=False,\n",
    "#                    square=True)\n",
    "        \n",
    "#         ax2.set_title('Character Prediction Patterns', pad=20)\n",
    "#         ax2.set_xlabel('Predicted Characters', labelpad=10)\n",
    "#         ax2.set_ylabel('True Characters', labelpad=10)\n",
    "        \n",
    "#         # Rotate labels and adjust spacing\n",
    "#         plt.setp(ax2.get_xticklabels(), rotation=45, ha='right')\n",
    "#         plt.setp(ax2.get_yticklabels(), rotation=0)\n",
    "        \n",
    "#         # Add divider lines\n",
    "#         for _, spine in ax2.spines.items():\n",
    "#             spine.set_visible(True)\n",
    "#             spine.set_color('gray')\n",
    "    \n",
    "#     plt.show()\n",
    "#     plt.savefig(\"acc.png\")\n",
    "#     return word_accuracy\n",
    "\n",
    "def evaluate_model(encoder, decoder, dataloader, int2devnagri, device, teacher_forcing_prob,beam_width,show_confusion=True, iswandb=False):\n",
    "    font_path = 'C:/Users/aksha/Downloads/Noto_Sans_Devanagari/NotoSansDevanagari-VariableFont_wdth,wght.ttf'\n",
    "    font_manager.fontManager.addfont(font_path)\n",
    "    plt.rcParams['font.family'] = 'Noto Sans Devanagari'\n",
    "    \n",
    "    encoder.eval()\n",
    "    decoder.eval()\n",
    "\n",
    "    correct_words = 0\n",
    "    total_words = 0\n",
    "    y_true = []\n",
    "    y_pred = []\n",
    "\n",
    "    with torch.no_grad():\n",
    "        for _, _, inputs, targets, input_lengths, _ in dataloader:\n",
    "            # _, _, input_tensor, target_tensor, input_lengths, target_lengths = data\n",
    "            inputs = inputs.to(device)\n",
    "            targets = targets.to(device)\n",
    "\n",
    "            encoder_outputs, encoder_hidden, encoder_cell = encoder(inputs, input_lengths)\n",
    "            # encoder_hidden = tuple(h.to(device) for h in encoder_hidden) if isinstance(encoder_hidden, tuple) \\\n",
    "                            # else encoder_hidden.to(device)\n",
    "            # encoder_cell = encoder_cell.to(device) if encoder_cell is not None else None\n",
    "            decoder_outputs, _, _, _ = decoder(encoder_outputs, encoder_hidden, encoder_cell,teacher_forcing_prob=teacher_forcing_prob,beam_width=beam_width)\n",
    "            # print(decoder_outputs)\n",
    "            # print(f\"decoder_outputs shape: {decoder_outputs.shape}\")\n",
    "            if decoder_outputs.dtype == torch.long:\n",
    "    # beam search: output is token IDs already\n",
    "                predicted_indices = decoder_outputs\n",
    "            else:\n",
    "                # teacher-forcing: output is (batch, seq_len, vocab_size) logits\n",
    "                predicted_indices = decoder_outputs.argmax(dim=-1)\n",
    "\n",
    "\n",
    "            for i, (pred_seq, true_seq) in enumerate(zip(predicted_indices, targets)):\n",
    "                # print(f\"Batch {i}: pred_seq shape: {pred_seq.shape if hasattr(pred_seq, 'shape') else 'scalar'}, value: {pred_seq}\")\n",
    "                if pred_seq.dim() == 0:\n",
    "                    pred_list = [pred_seq.item()] if pred_seq.item() != devnagri2int[PAD_TOKEN] else []\n",
    "                else:\n",
    "                    pred_list = [i.item() for i in pred_seq if i.item() != devnagri2int[PAD_TOKEN]]\n",
    "                true_list = [i.item() for i in true_seq if i.item() != devnagri2int[PAD_TOKEN]]\n",
    "\n",
    "                pred_str,true_str = [],[]\n",
    "                for char in pred_list:\n",
    "                    if char is devnagri2int[EOS_TOKEN]:\n",
    "                        break\n",
    "                    if char is not devnagri2int[SOS_TOKEN]:\n",
    "                        pred_str.append(int2devnagri[char])\n",
    "                for char in true_list:\n",
    "                    if char is devnagri2int[EOS_TOKEN]:\n",
    "                        break\n",
    "                    if char is not devnagri2int[SOS_TOKEN]:\n",
    "                        true_str.append(int2devnagri[char])\n",
    "                pred_str = ''.join(pred_str)\n",
    "                true_str = ''.join(true_str)\n",
    "                # print(pred_str)\n",
    "                # print(true_str)\n",
    "                if pred_str == true_str:\n",
    "                    correct_words += 1\n",
    "                total_words += 1\n",
    "\n",
    "                min_len = min(len(pred_list), len(true_list))\n",
    "                y_true.extend(true_list[:min_len])\n",
    "                y_pred.extend(pred_list[:min_len])\n",
    "\n",
    "    word_accuracy = correct_words / total_words if total_words > 0 else 0.0\n",
    "    \n",
    "    fig = plt.figure(figsize=(18, 8), constrained_layout=True)\n",
    "    \n",
    "    ax1 = fig.add_subplot(1, 2, 1)\n",
    "    bars = ax1.bar(['Correct', 'Incorrect'], \n",
    "                  [correct_words, total_words - correct_words],\n",
    "                  color=['#4CAF50', '#F44336'])\n",
    "    \n",
    "    for bar in bars:\n",
    "        height = bar.get_height()\n",
    "        ax1.text(bar.get_x() + bar.get_width()/2., height,\n",
    "                f'{height:,}\\n({height/total_words:.1%})',\n",
    "                ha='center', va='bottom')\n",
    "    \n",
    "    ax1.set_title(f'Word Accuracy: {word_accuracy:.2%}\\nTotal Words: {total_words:,}', pad=20)\n",
    "    ax1.set_ylabel('Count', labelpad=10)\n",
    "    ax1.grid(axis='y', linestyle='--', alpha=0.7)\n",
    "    \n",
    "    if show_confusion and y_true and y_pred:\n",
    "        ax2 = fig.add_subplot(1, 2, 2)\n",
    "        labels = sorted(list(set(y_true + y_pred)))\n",
    "        cm = confusion_matrix(y_true, y_pred, labels=labels)\n",
    "        cm_normalized = cm.astype('float') / cm.sum(axis=1)[:, np.newaxis]\n",
    "        \n",
    "        step = max(1, len(labels)//20)\n",
    "        display_labels = [int2devnagri[label] if i%step==0 else '' \n",
    "                         for i, label in enumerate(labels)]\n",
    "        \n",
    "        sns.heatmap(cm_normalized, ax=ax2,\n",
    "                   cmap='YlOrRd',\n",
    "                   cbar_kws={'label': 'Accuracy Percentage', 'shrink': 0.7},\n",
    "                   xticklabels=display_labels,\n",
    "                   yticklabels=display_labels,\n",
    "                   annot=False,\n",
    "                   square=True)\n",
    "        \n",
    "        ax2.set_title('Character Prediction Patterns', pad=20)\n",
    "        ax2.set_xlabel('Predicted Characters', labelpad=10)\n",
    "        ax2.set_ylabel('True Characters', labelpad=10)\n",
    "        \n",
    "        plt.setp(ax2.get_xticklabels(), rotation=45, ha='right')\n",
    "        plt.setp(ax2.get_yticklabels(), rotation=0)\n",
    "        \n",
    "        for _, spine in ax2.spines.items():\n",
    "            spine.set_visible(True)\n",
    "            spine.set_color('gray')\n",
    "        if iswandb:\n",
    "            wandb.log({\"confusion_matrix\": wandb.Image(fig)})\n",
    "    plt.tight_layout()\n",
    "    \n",
    "    plt.show()\n",
    "    plt.savefig(\"acc.png\")\n",
    "\n",
    "    encoder.train()\n",
    "    decoder.train()\n",
    "    return word_accuracy"
   ]
  },
  {
   "cell_type": "code",
   "execution_count": 16,
   "id": "da6aa034",
   "metadata": {},
   "outputs": [],
   "source": [
    "train_dataset = LangDataset(\"train\")\n",
    "val_dataset = LangDataset(\"val\")\n",
    "test_dataset = LangDataset(\"test\")"
   ]
  },
  {
   "cell_type": "code",
   "execution_count": 17,
   "id": "3fb19f76",
   "metadata": {},
   "outputs": [],
   "source": [
    "def collate_fn(batch):\n",
    "    # Sort by input sequence length (descending)\n",
    "    batch.sort(key=lambda x: len(x[2]), reverse=True)\n",
    "    \n",
    "    latin_words, devnagri_words, latin_tensors, devnagri_tensors = zip(*batch)\n",
    "    \n",
    "    # Get sequence lengths\n",
    "    input_lengths = [len(seq) for seq in latin_tensors]\n",
    "    target_lengths = [len(seq) for seq in devnagri_tensors]\n",
    "    \n",
    "    # Pad sequences\n",
    "    latin_tensors = nn.utils.rnn.pad_sequence(latin_tensors, batch_first=True, padding_value=latin2int[PAD_TOKEN])\n",
    "    devnagri_tensors = nn.utils.rnn.pad_sequence(devnagri_tensors, batch_first=True, padding_value=devnagri2int[PAD_TOKEN])\n",
    "    \n",
    "    return (latin_words, devnagri_words, \n",
    "            latin_tensors.to(device), devnagri_tensors.to(device),\n",
    "            input_lengths, target_lengths)\n",
    "\n",
    "# Update DataLoader initialization to use the collate function\n",
    "train_dataloader = DataLoader(train_dataset, \n",
    "                            batch_size=64, \n",
    "                            shuffle=True, \n",
    "                            collate_fn=collate_fn)\n",
    "val_dataloader = DataLoader(val_dataset, \n",
    "                          batch_size=64, \n",
    "                          shuffle=True, \n",
    "                          collate_fn=collate_fn)\n",
    "test_dataloader = DataLoader(test_dataset, \n",
    "                           batch_size=64, \n",
    "                           shuffle=True, \n",
    "                           collate_fn=collate_fn)"
   ]
  },
  {
   "cell_type": "code",
   "execution_count": 18,
   "id": "f7c29e0c",
   "metadata": {},
   "outputs": [],
   "source": [
    "# import gc\n",
    "# torch.cuda.empty_cache()\n",
    "# torch.cuda.synchronize()\n",
    "# gc.collect()\n",
    "# # Initialize with proper parameters\n",
    "# # Model Architecture\n",
    "# encoder = EncoderRNN(\n",
    "#     vocab_size=len(latin2int),\n",
    "#     embed_size=256,\n",
    "#     hidden_size=512,\n",
    "#     num_layers=3,\n",
    "#     layer=\"lstm\",\n",
    "#     # dropout_p=0.3\n",
    "# ).to(device)\n",
    "\n",
    "# decoder = AttnDecoderRNN(\n",
    "#     vocab_size=len(devnagri2int),\n",
    "#     embed_size=256,\n",
    "#     hidden_size=512,\n",
    "#     num_layers=3,\n",
    "#     layer=\"lstm\"\n",
    "# ).to(device)\n",
    "\n",
    "\n",
    "# # Training Schedule\n",
    "# train(train_dataloader, val_dataloader, encoder, decoder,\n",
    "#       n_epochs=3,  # Increased epochs\n",
    "#       learning_rate=0.001,\n",
    "#       print_every=1,\n",
    "#       plot_every=10)"
   ]
  },
  {
   "cell_type": "code",
   "execution_count": 19,
   "id": "c35b2e00",
   "metadata": {},
   "outputs": [],
   "source": [
    "# train(train_dataloader, val_dataloader,encoder, decoder, n_epochs=2, learning_rate=0.001)"
   ]
  },
  {
   "cell_type": "code",
   "execution_count": 20,
   "id": "4efbe1d2",
   "metadata": {},
   "outputs": [],
   "source": [
    "# evaluate_model(encoder,decoder,val_dataloader,int2devnagri,device,True)"
   ]
  },
  {
   "cell_type": "code",
   "execution_count": 21,
   "id": "dc34f795",
   "metadata": {},
   "outputs": [],
   "source": [
    "test_data_1point = LangDataset(type=\"test_ponit\")\n",
    "test_data_point_loader = DataLoader(test_data_1point, \n",
    "                           batch_size=64, \n",
    "                           shuffle=True, \n",
    "                           collate_fn=collate_fn)"
   ]
  },
  {
   "cell_type": "code",
   "execution_count": 22,
   "id": "d897a55e",
   "metadata": {},
   "outputs": [
    {
     "name": "stdout",
     "output_type": "stream",
     "text": [
      "Input: ('nirnayaprakriyet', 'anuj')\n",
      "Target: ('निर्णयप्रक्रियेत', 'अनुज')\n"
     ]
    },
    {
     "ename": "NameError",
     "evalue": "name 'encoder' is not defined",
     "output_type": "error",
     "traceback": [
      "\u001b[1;31m---------------------------------------------------------------------------\u001b[0m",
      "\u001b[1;31mNameError\u001b[0m                                 Traceback (most recent call last)",
      "Cell \u001b[1;32mIn[22], line 11\u001b[0m\n\u001b[0;32m      8\u001b[0m targets \u001b[38;5;241m=\u001b[39m targets\u001b[38;5;241m.\u001b[39mto(device)\n\u001b[0;32m     10\u001b[0m \u001b[38;5;66;03m# Encoder forward\u001b[39;00m\n\u001b[1;32m---> 11\u001b[0m encoder_outputs, encoder_hidden, encoder_cell \u001b[38;5;241m=\u001b[39m \u001b[43mencoder\u001b[49m(inputs, input_lengths)\n\u001b[0;32m     12\u001b[0m \u001b[38;5;66;03m# encoder_hidden = tuple(h.to(device) for h in encoder_hidden) if isinstance(encoder_hidden, tuple) \\\u001b[39;00m\n\u001b[0;32m     13\u001b[0m                     \u001b[38;5;66;03m# else encoder_hidden.to(device)\u001b[39;00m\n\u001b[0;32m     14\u001b[0m \u001b[38;5;66;03m# Decoder forward with beam search\u001b[39;00m\n\u001b[0;32m     15\u001b[0m \u001b[38;5;66;03m# print(type(encoder_outputs),type(encoder_hidden), type(encoder_cell) )\u001b[39;00m\n\u001b[0;32m     16\u001b[0m beam_outputs, _, _, _ \u001b[38;5;241m=\u001b[39m decoder(\n\u001b[0;32m     17\u001b[0m     encoder_outputs, \n\u001b[0;32m     18\u001b[0m     encoder_hidden, \n\u001b[0;32m     19\u001b[0m     encoder_cell, \n\u001b[0;32m     20\u001b[0m )\n",
      "\u001b[1;31mNameError\u001b[0m: name 'encoder' is not defined"
     ]
    }
   ],
   "source": [
    "with torch.no_grad():\n",
    "    y_true, y_pred, total_words, correct_words = [], [], 0, 0\n",
    "    for lw, dw, inputs, targets, input_lengths, _ in test_data_point_loader:\n",
    "        print(\"Input:\", lw)\n",
    "        print(\"Target:\", dw)\n",
    "        \n",
    "        inputs = inputs.to(device)\n",
    "        targets = targets.to(device)\n",
    "        \n",
    "        # Encoder forward\n",
    "        encoder_outputs, encoder_hidden, encoder_cell = encoder(inputs, input_lengths)\n",
    "        # encoder_hidden = tuple(h.to(device) for h in encoder_hidden) if isinstance(encoder_hidden, tuple) \\\n",
    "                            # else encoder_hidden.to(device)\n",
    "        # Decoder forward with beam search\n",
    "        # print(type(encoder_outputs),type(encoder_hidden), type(encoder_cell) )\n",
    "        beam_outputs, _, _, _ = decoder(\n",
    "            encoder_outputs, \n",
    "            encoder_hidden, \n",
    "            encoder_cell, \n",
    "        )\n",
    "        # Process beam search results\n",
    "        for batch_idx in range(beam_outputs.size(0)):\n",
    "            # Get top sequence for this batch item\n",
    "            top_sequence = beam_outputs[batch_idx]\n",
    "            \n",
    "            # If top_sequence contains logits, get predicted indices\n",
    "            if top_sequence.dim() > 1:\n",
    "                pred_indices = top_sequence.argmax(dim=-1)\n",
    "            else:\n",
    "                pred_indices = top_sequence\n",
    "\n",
    "            # Convert indices to characters\n",
    "            pred_chars = []\n",
    "            for token_id in pred_indices:\n",
    "                token_id = token_id.item() if isinstance(token_id, torch.Tensor) else token_id\n",
    "                if token_id == devnagri2int[EOS_TOKEN]:\n",
    "                    break\n",
    "                if token_id != devnagri2int[PAD_TOKEN] and token_id != devnagri2int[SOS_TOKEN]:\n",
    "                    pred_chars.append(int2devnagri[token_id])\n",
    "            \n",
    "            # Get true translation\n",
    "            true_chars = []\n",
    "            for token_id in targets[batch_idx]:\n",
    "                if token_id == devnagri2int[EOS_TOKEN]:\n",
    "                    break\n",
    "                if token_id != devnagri2int[PAD_TOKEN] and token_id != devnagri2int[SOS_TOKEN]:\n",
    "                    true_chars.append(int2devnagri[token_id.item()])\n",
    "            \n",
    "            # Convert to strings\n",
    "            pred_str = ''.join(pred_chars)\n",
    "            true_str = ''.join(true_chars)\n",
    "            \n",
    "            print(f\"Predicted: {pred_str}\")\n",
    "            print(f\"Expected: {true_str}\\n\")\n",
    "            \n",
    "            # Update metrics\n",
    "            if pred_str == true_str:\n",
    "                correct_words += 1\n",
    "            total_words += 1\n",
    "            \n",
    "            # For confusion matrix\n",
    "            y_true.extend(true_chars)\n",
    "            y_pred.extend(pred_chars[:len(true_chars)])\n",
    "\n",
    "word_accuracy = correct_words / total_words if total_words > 0 else 0.0\n",
    "print(f\"Word Accuracy: {word_accuracy:.2%}\")"
   ]
  },
  {
   "cell_type": "code",
   "execution_count": 23,
   "id": "8b826756",
   "metadata": {},
   "outputs": [],
   "source": [
    "def sweep_config(best_config=False):\n",
    "    \"\"\"Define the configuration for hyperparameter sweep\"\"\"\n",
    "    base_params = {\n",
    "        \"embed_size\": {\"values\": [128, 256, 512]},\n",
    "        \"num_layers\": {\"values\": [2, 3, 4]},\n",
    "        \"layer\": {\"values\": [\"lstm\", \"gru\"]},\n",
    "        \"hidden_size\": {\"values\": [128, 256, 512]},\n",
    "        \"batch_size\": {\"values\": [32, 64]},\n",
    "        \"learning_rate\": {\"values\": [1e-4, 1e-3, 5*1e-3]},\n",
    "        \"dropout_p\": {\"values\": [0.1,0.3, 0.4]},\n",
    "        \"activation\": {\"values\": [\"tanh\"]},\n",
    "        \"teacher_forcing_prob\": {\"values\": [0.8, 0.9,0.99]},\n",
    "        \"beam_width\": {\"values\": [1, 2, 4]},\n",
    "        \"num_epochs\": {\"values\": [6]}\n",
    "    }\n",
    "\n",
    "    if not best_config:\n",
    "        return {\n",
    "            \"method\": \"bayes\",\n",
    "            \"metric\": {\"name\": \"val_accuracy\", \"goal\": \"maximize\"},\n",
    "            \"parameters\": base_params\n",
    "        }\n",
    "    else:\n",
    "        # Fix to best-known values\n",
    "        fixed = {k: {\"values\": [v[\"values\"][-1]]} for k, v in base_params.items()}\n",
    "        return {\n",
    "            \"method\": \"bayes\",\n",
    "            \"metric\": {\"name\": \"val_accuracy\", \"goal\": \"maximize\"},\n",
    "            \"parameters\": fixed\n",
    "        }\n",
    "\n",
    "\n",
    "def wandb_train():\n",
    "    \"\"\"Main training function for a wandb run\"\"\"\n",
    "    # Initialize wandb\n",
    "    run = wandb.init()\n",
    "    config = run.config\n",
    "    run.name = f\"Layer-{config.layer}-Batch-{config.batch_size}-LR-{config.learning_rate}-Dropout-{config.dropout_p}-Layers-{config.num_layers}-LayerType-{config.layer}-BeamWidth-{config.beam_width}\"\n",
    "    run.save()\n",
    "    # Set device\n",
    "    device = torch.device(\"cuda\" if torch.cuda.is_available() else \"cpu\")\n",
    "\n",
    "    # Prepare data loaders using config.batch_size\n",
    "    train_loader = DataLoader(train_dataset, batch_size=config.batch_size,\n",
    "                              shuffle=True, collate_fn=collate_fn)\n",
    "    val_loader = DataLoader(val_dataset, batch_size=config.batch_size,\n",
    "                            shuffle=False, collate_fn=collate_fn)\n",
    "\n",
    "    # Instantiate models\n",
    "    encoder = EncoderRNN(\n",
    "        vocab_size=len(latin2int),\n",
    "        embed_size=config.embed_size,\n",
    "        hidden_size=config.hidden_size,\n",
    "        num_layers=config.num_layers,\n",
    "        layer=config.layer,\n",
    "        dropout_p=config.dropout_p\n",
    "    ).to(device)\n",
    "\n",
    "    decoder = DecoderRNN(\n",
    "        vocab_size=len(devnagri2int),\n",
    "        embed_size=config.embed_size,\n",
    "        hidden_size=config.hidden_size,\n",
    "        num_layers=config.num_layers,\n",
    "        layer=config.layer\n",
    "    ).to(device)\n",
    "\n",
    "    # Call your training loop\n",
    "    train(train_loader, val_loader,encoder, decoder, n_epochs=config.num_epochs, learning_rate=config.learning_rate,teacher_forcing_prob=config.teacher_forcing_prob,beam_width=config.beam_width,print_every=1, plot_every=10,iswandb=True)\n",
    "    # train(train_dataloader, val_dataloader,encoder, decoder, n_epochs=2, learning_rate=0.001)\n",
    "    # Finish wandb run\n",
    "    run.finish()\n",
    "\n",
    "\n",
    "def run_sweep(sweep_id=None, best_config=False):\n",
    "    \"\"\"Create or run a wandb sweep.\"\"\"\n",
    "    if sweep_id is None:\n",
    "        sweep_id = wandb.sweep(sweep_config(best_config), project=\"transliteration-sweep\")\n",
    "    wandb.agent(sweep_id, function=wandb_train, count=1 if best_config else 15)"
   ]
  },
  {
   "cell_type": "code",
   "execution_count": null,
   "id": "d7585d74",
   "metadata": {},
   "outputs": [
    {
     "name": "stderr",
     "output_type": "stream",
     "text": [
      "\u001b[34m\u001b[1mwandb\u001b[0m: Using wandb-core as the SDK backend.  Please refer to https://wandb.me/wandb-core for more information.\n"
     ]
    },
    {
     "name": "stdout",
     "output_type": "stream",
     "text": [
      "Create sweep with ID: kob5w4rc\n",
      "Sweep URL: https://wandb.ai/me21b172-indian-institute-of-technology-madras/transliteration-sweep/sweeps/kob5w4rc\n"
     ]
    },
    {
     "name": "stderr",
     "output_type": "stream",
     "text": [
      "\u001b[34m\u001b[1mwandb\u001b[0m: Agent Starting Run: 5tk4d5mi with config:\n",
      "\u001b[34m\u001b[1mwandb\u001b[0m: \tactivation: tanh\n",
      "\u001b[34m\u001b[1mwandb\u001b[0m: \tbatch_size: 64\n",
      "\u001b[34m\u001b[1mwandb\u001b[0m: \tbeam_width: 1\n",
      "\u001b[34m\u001b[1mwandb\u001b[0m: \tdropout_p: 0.3\n",
      "\u001b[34m\u001b[1mwandb\u001b[0m: \tembed_size: 512\n",
      "\u001b[34m\u001b[1mwandb\u001b[0m: \thidden_size: 512\n",
      "\u001b[34m\u001b[1mwandb\u001b[0m: \tlayer: gru\n",
      "\u001b[34m\u001b[1mwandb\u001b[0m: \tlearning_rate: 0.005\n",
      "\u001b[34m\u001b[1mwandb\u001b[0m: \tnum_epochs: 6\n",
      "\u001b[34m\u001b[1mwandb\u001b[0m: \tnum_layers: 2\n",
      "\u001b[34m\u001b[1mwandb\u001b[0m: \tteacher_forcing_prob: 0.99\n",
      "\u001b[34m\u001b[1mwandb\u001b[0m: Currently logged in as: \u001b[33mme21b172\u001b[0m (\u001b[33mme21b172-indian-institute-of-technology-madras\u001b[0m) to \u001b[32mhttps://api.wandb.ai\u001b[0m. Use \u001b[1m`wandb login --relogin`\u001b[0m to force relogin\n"
     ]
    },
    {
     "data": {
      "text/html": [
       "Tracking run with wandb version 0.19.9"
      ],
      "text/plain": [
       "<IPython.core.display.HTML object>"
      ]
     },
     "metadata": {},
     "output_type": "display_data"
    },
    {
     "data": {
      "text/html": [
       "Run data is saved locally in <code>c:\\Users\\aksha\\OneDrive\\Desktop\\codes\\CP\\DL Assignment Submissions\\Assignment-3\\wandb\\run-20250519_104614-5tk4d5mi</code>"
      ],
      "text/plain": [
       "<IPython.core.display.HTML object>"
      ]
     },
     "metadata": {},
     "output_type": "display_data"
    },
    {
     "data": {
      "text/html": [
       "Syncing run <strong><a href='https://wandb.ai/me21b172-indian-institute-of-technology-madras/transliteration-sweep/runs/5tk4d5mi' target=\"_blank\">firm-sweep-1</a></strong> to <a href='https://wandb.ai/me21b172-indian-institute-of-technology-madras/transliteration-sweep' target=\"_blank\">Weights & Biases</a> (<a href='https://wandb.me/developer-guide' target=\"_blank\">docs</a>)<br>Sweep page: <a href='https://wandb.ai/me21b172-indian-institute-of-technology-madras/transliteration-sweep/sweeps/kob5w4rc' target=\"_blank\">https://wandb.ai/me21b172-indian-institute-of-technology-madras/transliteration-sweep/sweeps/kob5w4rc</a>"
      ],
      "text/plain": [
       "<IPython.core.display.HTML object>"
      ]
     },
     "metadata": {},
     "output_type": "display_data"
    },
    {
     "data": {
      "text/html": [
       " View project at <a href='https://wandb.ai/me21b172-indian-institute-of-technology-madras/transliteration-sweep' target=\"_blank\">https://wandb.ai/me21b172-indian-institute-of-technology-madras/transliteration-sweep</a>"
      ],
      "text/plain": [
       "<IPython.core.display.HTML object>"
      ]
     },
     "metadata": {},
     "output_type": "display_data"
    },
    {
     "data": {
      "text/html": [
       " View sweep at <a href='https://wandb.ai/me21b172-indian-institute-of-technology-madras/transliteration-sweep/sweeps/kob5w4rc' target=\"_blank\">https://wandb.ai/me21b172-indian-institute-of-technology-madras/transliteration-sweep/sweeps/kob5w4rc</a>"
      ],
      "text/plain": [
       "<IPython.core.display.HTML object>"
      ]
     },
     "metadata": {},
     "output_type": "display_data"
    },
    {
     "data": {
      "text/html": [
       " View run at <a href='https://wandb.ai/me21b172-indian-institute-of-technology-madras/transliteration-sweep/runs/5tk4d5mi' target=\"_blank\">https://wandb.ai/me21b172-indian-institute-of-technology-madras/transliteration-sweep/runs/5tk4d5mi</a>"
      ],
      "text/plain": [
       "<IPython.core.display.HTML object>"
      ]
     },
     "metadata": {},
     "output_type": "display_data"
    },
    {
     "name": "stderr",
     "output_type": "stream",
     "text": [
      "\u001b[34m\u001b[1mwandb\u001b[0m: \u001b[33mWARNING\u001b[0m Calling wandb.run.save without any arguments is deprecated.Changes to attributes are automatically persisted.\n"
     ]
    },
    {
     "name": "stdout",
     "output_type": "stream",
     "text": [
      "0m 45s (- 3m 46s) (1 16%) 1.7440\n"
     ]
    },
    {
     "name": "stderr",
     "output_type": "stream",
     "text": [
      "C:\\Users\\aksha\\AppData\\Local\\Temp\\ipykernel_25376\\4279210179.py:295: UserWarning: This figure includes Axes that are not compatible with tight_layout, so results might be incorrect.\n",
      "  plt.tight_layout()\n",
      "C:\\Users\\aksha\\AppData\\Local\\Temp\\ipykernel_25376\\4279210179.py:295: UserWarning: This figure was using constrained_layout, but that is incompatible with subplots_adjust and/or tight_layout; disabling constrained_layout.\n",
      "  plt.tight_layout()\n",
      "C:\\Users\\aksha\\AppData\\Local\\Temp\\ipykernel_25376\\4279210179.py:297: UserWarning: Matplotlib is currently using agg, which is a non-GUI backend, so cannot show the figure.\n",
      "  plt.show()\n"
     ]
    },
    {
     "name": "stdout",
     "output_type": "stream",
     "text": [
      "1m 34s (- 3m 8s) (2 33%) 1.5345\n"
     ]
    },
    {
     "name": "stderr",
     "output_type": "stream",
     "text": [
      "C:\\Users\\aksha\\AppData\\Local\\Temp\\ipykernel_25376\\4279210179.py:295: UserWarning: This figure includes Axes that are not compatible with tight_layout, so results might be incorrect.\n",
      "  plt.tight_layout()\n",
      "C:\\Users\\aksha\\AppData\\Local\\Temp\\ipykernel_25376\\4279210179.py:295: UserWarning: This figure was using constrained_layout, but that is incompatible with subplots_adjust and/or tight_layout; disabling constrained_layout.\n",
      "  plt.tight_layout()\n",
      "C:\\Users\\aksha\\AppData\\Local\\Temp\\ipykernel_25376\\4279210179.py:297: UserWarning: Matplotlib is currently using agg, which is a non-GUI backend, so cannot show the figure.\n",
      "  plt.show()\n"
     ]
    },
    {
     "name": "stdout",
     "output_type": "stream",
     "text": [
      "2m 24s (- 2m 24s) (3 50%) 1.4999\n"
     ]
    },
    {
     "name": "stderr",
     "output_type": "stream",
     "text": [
      "C:\\Users\\aksha\\AppData\\Local\\Temp\\ipykernel_25376\\4279210179.py:295: UserWarning: This figure includes Axes that are not compatible with tight_layout, so results might be incorrect.\n",
      "  plt.tight_layout()\n",
      "C:\\Users\\aksha\\AppData\\Local\\Temp\\ipykernel_25376\\4279210179.py:295: UserWarning: This figure was using constrained_layout, but that is incompatible with subplots_adjust and/or tight_layout; disabling constrained_layout.\n",
      "  plt.tight_layout()\n",
      "C:\\Users\\aksha\\AppData\\Local\\Temp\\ipykernel_25376\\4279210179.py:297: UserWarning: Matplotlib is currently using agg, which is a non-GUI backend, so cannot show the figure.\n",
      "  plt.show()\n"
     ]
    },
    {
     "name": "stdout",
     "output_type": "stream",
     "text": [
      "3m 10s (- 1m 35s) (4 66%) 1.4758\n"
     ]
    },
    {
     "name": "stderr",
     "output_type": "stream",
     "text": [
      "C:\\Users\\aksha\\AppData\\Local\\Temp\\ipykernel_25376\\4279210179.py:295: UserWarning: This figure includes Axes that are not compatible with tight_layout, so results might be incorrect.\n",
      "  plt.tight_layout()\n",
      "C:\\Users\\aksha\\AppData\\Local\\Temp\\ipykernel_25376\\4279210179.py:295: UserWarning: This figure was using constrained_layout, but that is incompatible with subplots_adjust and/or tight_layout; disabling constrained_layout.\n",
      "  plt.tight_layout()\n",
      "C:\\Users\\aksha\\AppData\\Local\\Temp\\ipykernel_25376\\4279210179.py:297: UserWarning: Matplotlib is currently using agg, which is a non-GUI backend, so cannot show the figure.\n",
      "  plt.show()\n"
     ]
    },
    {
     "name": "stdout",
     "output_type": "stream",
     "text": [
      "3m 55s (- 0m 47s) (5 83%) 1.4784\n"
     ]
    },
    {
     "name": "stderr",
     "output_type": "stream",
     "text": [
      "C:\\Users\\aksha\\AppData\\Local\\Temp\\ipykernel_25376\\4279210179.py:295: UserWarning: This figure includes Axes that are not compatible with tight_layout, so results might be incorrect.\n",
      "  plt.tight_layout()\n",
      "C:\\Users\\aksha\\AppData\\Local\\Temp\\ipykernel_25376\\4279210179.py:295: UserWarning: This figure was using constrained_layout, but that is incompatible with subplots_adjust and/or tight_layout; disabling constrained_layout.\n",
      "  plt.tight_layout()\n",
      "C:\\Users\\aksha\\AppData\\Local\\Temp\\ipykernel_25376\\4279210179.py:297: UserWarning: Matplotlib is currently using agg, which is a non-GUI backend, so cannot show the figure.\n",
      "  plt.show()\n"
     ]
    },
    {
     "name": "stdout",
     "output_type": "stream",
     "text": [
      "4m 44s (- 0m 0s) (6 100%) 1.4601\n"
     ]
    },
    {
     "name": "stderr",
     "output_type": "stream",
     "text": [
      "C:\\Users\\aksha\\AppData\\Local\\Temp\\ipykernel_25376\\4279210179.py:295: UserWarning: This figure includes Axes that are not compatible with tight_layout, so results might be incorrect.\n",
      "  plt.tight_layout()\n",
      "C:\\Users\\aksha\\AppData\\Local\\Temp\\ipykernel_25376\\4279210179.py:295: UserWarning: This figure was using constrained_layout, but that is incompatible with subplots_adjust and/or tight_layout; disabling constrained_layout.\n",
      "  plt.tight_layout()\n",
      "C:\\Users\\aksha\\AppData\\Local\\Temp\\ipykernel_25376\\4279210179.py:297: UserWarning: Matplotlib is currently using agg, which is a non-GUI backend, so cannot show the figure.\n",
      "  plt.show()\n"
     ]
    },
    {
     "data": {
      "text/html": [],
      "text/plain": [
       "<IPython.core.display.HTML object>"
      ]
     },
     "metadata": {},
     "output_type": "display_data"
    },
    {
     "data": {
      "text/html": [
       "<br>    <style><br>        .wandb-row {<br>            display: flex;<br>            flex-direction: row;<br>            flex-wrap: wrap;<br>            justify-content: flex-start;<br>            width: 100%;<br>        }<br>        .wandb-col {<br>            display: flex;<br>            flex-direction: column;<br>            flex-basis: 100%;<br>            flex: 1;<br>            padding: 10px;<br>        }<br>    </style><br><div class=\"wandb-row\"><div class=\"wandb-col\"><h3>Run history:</h3><br/><table class=\"wandb\"><tr><td>epoch</td><td>▁▂▄▅▇█</td></tr><tr><td>train_loss</td><td>█▃▂▁▁▁</td></tr><tr><td>val_accuracy</td><td>▇▂▇▆▁█</td></tr></table><br/></div><div class=\"wandb-col\"><h3>Run summary:</h3><br/><table class=\"wandb\"><tr><td>epoch</td><td>6</td></tr><tr><td>train_loss</td><td>1.4601</td></tr><tr><td>val_accuracy</td><td>0.01744</td></tr></table><br/></div></div>"
      ],
      "text/plain": [
       "<IPython.core.display.HTML object>"
      ]
     },
     "metadata": {},
     "output_type": "display_data"
    },
    {
     "data": {
      "text/html": [
       " View run <strong style=\"color:#cdcd00\">Layer-gru-Batch-64-LR-0.005-Dropout-0.3-Layers-2-LayerType-gru-BeamWidth-1</strong> at: <a href='https://wandb.ai/me21b172-indian-institute-of-technology-madras/transliteration-sweep/runs/5tk4d5mi' target=\"_blank\">https://wandb.ai/me21b172-indian-institute-of-technology-madras/transliteration-sweep/runs/5tk4d5mi</a><br> View project at: <a href='https://wandb.ai/me21b172-indian-institute-of-technology-madras/transliteration-sweep' target=\"_blank\">https://wandb.ai/me21b172-indian-institute-of-technology-madras/transliteration-sweep</a><br>Synced 5 W&B file(s), 6 media file(s), 0 artifact file(s) and 0 other file(s)"
      ],
      "text/plain": [
       "<IPython.core.display.HTML object>"
      ]
     },
     "metadata": {},
     "output_type": "display_data"
    },
    {
     "data": {
      "text/html": [
       "Find logs at: <code>.\\wandb\\run-20250519_104614-5tk4d5mi\\logs</code>"
      ],
      "text/plain": [
       "<IPython.core.display.HTML object>"
      ]
     },
     "metadata": {},
     "output_type": "display_data"
    },
    {
     "name": "stderr",
     "output_type": "stream",
     "text": [
      "\u001b[34m\u001b[1mwandb\u001b[0m: Agent Starting Run: pjllujdk with config:\n",
      "\u001b[34m\u001b[1mwandb\u001b[0m: \tactivation: tanh\n",
      "\u001b[34m\u001b[1mwandb\u001b[0m: \tbatch_size: 64\n",
      "\u001b[34m\u001b[1mwandb\u001b[0m: \tbeam_width: 1\n",
      "\u001b[34m\u001b[1mwandb\u001b[0m: \tdropout_p: 0.4\n",
      "\u001b[34m\u001b[1mwandb\u001b[0m: \tembed_size: 256\n",
      "\u001b[34m\u001b[1mwandb\u001b[0m: \thidden_size: 128\n",
      "\u001b[34m\u001b[1mwandb\u001b[0m: \tlayer: lstm\n",
      "\u001b[34m\u001b[1mwandb\u001b[0m: \tlearning_rate: 0.0001\n",
      "\u001b[34m\u001b[1mwandb\u001b[0m: \tnum_epochs: 6\n",
      "\u001b[34m\u001b[1mwandb\u001b[0m: \tnum_layers: 2\n",
      "\u001b[34m\u001b[1mwandb\u001b[0m: \tteacher_forcing_prob: 0.9\n"
     ]
    },
    {
     "data": {
      "text/html": [
       "creating run (0.0s)"
      ],
      "text/plain": [
       "<IPython.core.display.HTML object>"
      ]
     },
     "metadata": {},
     "output_type": "display_data"
    },
    {
     "data": {
      "text/html": [
       "Tracking run with wandb version 0.19.9"
      ],
      "text/plain": [
       "<IPython.core.display.HTML object>"
      ]
     },
     "metadata": {},
     "output_type": "display_data"
    },
    {
     "data": {
      "text/html": [
       "Run data is saved locally in <code>c:\\Users\\aksha\\OneDrive\\Desktop\\codes\\CP\\DL Assignment Submissions\\Assignment-3\\wandb\\run-20250519_105120-pjllujdk</code>"
      ],
      "text/plain": [
       "<IPython.core.display.HTML object>"
      ]
     },
     "metadata": {},
     "output_type": "display_data"
    },
    {
     "data": {
      "text/html": [
       "Syncing run <strong><a href='https://wandb.ai/me21b172-indian-institute-of-technology-madras/transliteration-sweep/runs/pjllujdk' target=\"_blank\">youthful-sweep-2</a></strong> to <a href='https://wandb.ai/me21b172-indian-institute-of-technology-madras/transliteration-sweep' target=\"_blank\">Weights & Biases</a> (<a href='https://wandb.me/developer-guide' target=\"_blank\">docs</a>)<br>Sweep page: <a href='https://wandb.ai/me21b172-indian-institute-of-technology-madras/transliteration-sweep/sweeps/kob5w4rc' target=\"_blank\">https://wandb.ai/me21b172-indian-institute-of-technology-madras/transliteration-sweep/sweeps/kob5w4rc</a>"
      ],
      "text/plain": [
       "<IPython.core.display.HTML object>"
      ]
     },
     "metadata": {},
     "output_type": "display_data"
    },
    {
     "data": {
      "text/html": [
       " View project at <a href='https://wandb.ai/me21b172-indian-institute-of-technology-madras/transliteration-sweep' target=\"_blank\">https://wandb.ai/me21b172-indian-institute-of-technology-madras/transliteration-sweep</a>"
      ],
      "text/plain": [
       "<IPython.core.display.HTML object>"
      ]
     },
     "metadata": {},
     "output_type": "display_data"
    },
    {
     "data": {
      "text/html": [
       " View sweep at <a href='https://wandb.ai/me21b172-indian-institute-of-technology-madras/transliteration-sweep/sweeps/kob5w4rc' target=\"_blank\">https://wandb.ai/me21b172-indian-institute-of-technology-madras/transliteration-sweep/sweeps/kob5w4rc</a>"
      ],
      "text/plain": [
       "<IPython.core.display.HTML object>"
      ]
     },
     "metadata": {},
     "output_type": "display_data"
    },
    {
     "data": {
      "text/html": [
       " View run at <a href='https://wandb.ai/me21b172-indian-institute-of-technology-madras/transliteration-sweep/runs/pjllujdk' target=\"_blank\">https://wandb.ai/me21b172-indian-institute-of-technology-madras/transliteration-sweep/runs/pjllujdk</a>"
      ],
      "text/plain": [
       "<IPython.core.display.HTML object>"
      ]
     },
     "metadata": {},
     "output_type": "display_data"
    },
    {
     "name": "stdout",
     "output_type": "stream",
     "text": [
      "0m 35s (- 2m 56s) (1 16%) 3.0918\n"
     ]
    },
    {
     "name": "stderr",
     "output_type": "stream",
     "text": [
      "C:\\Users\\aksha\\AppData\\Local\\Temp\\ipykernel_25376\\4279210179.py:295: UserWarning: This figure includes Axes that are not compatible with tight_layout, so results might be incorrect.\n",
      "  plt.tight_layout()\n",
      "C:\\Users\\aksha\\AppData\\Local\\Temp\\ipykernel_25376\\4279210179.py:295: UserWarning: This figure was using constrained_layout, but that is incompatible with subplots_adjust and/or tight_layout; disabling constrained_layout.\n",
      "  plt.tight_layout()\n",
      "C:\\Users\\aksha\\AppData\\Local\\Temp\\ipykernel_25376\\4279210179.py:297: UserWarning: Matplotlib is currently using agg, which is a non-GUI backend, so cannot show the figure.\n",
      "  plt.show()\n"
     ]
    },
    {
     "name": "stdout",
     "output_type": "stream",
     "text": [
      "1m 34s (- 3m 8s) (2 33%) 2.5131\n"
     ]
    },
    {
     "name": "stderr",
     "output_type": "stream",
     "text": [
      "C:\\Users\\aksha\\AppData\\Local\\Temp\\ipykernel_25376\\4279210179.py:295: UserWarning: This figure includes Axes that are not compatible with tight_layout, so results might be incorrect.\n",
      "  plt.tight_layout()\n",
      "C:\\Users\\aksha\\AppData\\Local\\Temp\\ipykernel_25376\\4279210179.py:295: UserWarning: This figure was using constrained_layout, but that is incompatible with subplots_adjust and/or tight_layout; disabling constrained_layout.\n",
      "  plt.tight_layout()\n",
      "C:\\Users\\aksha\\AppData\\Local\\Temp\\ipykernel_25376\\4279210179.py:297: UserWarning: Matplotlib is currently using agg, which is a non-GUI backend, so cannot show the figure.\n",
      "  plt.show()\n"
     ]
    },
    {
     "name": "stdout",
     "output_type": "stream",
     "text": [
      "2m 22s (- 2m 22s) (3 50%) 2.2390\n"
     ]
    },
    {
     "name": "stderr",
     "output_type": "stream",
     "text": [
      "C:\\Users\\aksha\\AppData\\Local\\Temp\\ipykernel_25376\\4279210179.py:295: UserWarning: This figure includes Axes that are not compatible with tight_layout, so results might be incorrect.\n",
      "  plt.tight_layout()\n",
      "C:\\Users\\aksha\\AppData\\Local\\Temp\\ipykernel_25376\\4279210179.py:295: UserWarning: This figure was using constrained_layout, but that is incompatible with subplots_adjust and/or tight_layout; disabling constrained_layout.\n",
      "  plt.tight_layout()\n",
      "C:\\Users\\aksha\\AppData\\Local\\Temp\\ipykernel_25376\\4279210179.py:297: UserWarning: Matplotlib is currently using agg, which is a non-GUI backend, so cannot show the figure.\n",
      "  plt.show()\n"
     ]
    },
    {
     "name": "stdout",
     "output_type": "stream",
     "text": [
      "3m 11s (- 1m 35s) (4 66%) 2.0464\n"
     ]
    },
    {
     "name": "stderr",
     "output_type": "stream",
     "text": [
      "C:\\Users\\aksha\\AppData\\Local\\Temp\\ipykernel_25376\\4279210179.py:295: UserWarning: This figure includes Axes that are not compatible with tight_layout, so results might be incorrect.\n",
      "  plt.tight_layout()\n",
      "C:\\Users\\aksha\\AppData\\Local\\Temp\\ipykernel_25376\\4279210179.py:295: UserWarning: This figure was using constrained_layout, but that is incompatible with subplots_adjust and/or tight_layout; disabling constrained_layout.\n",
      "  plt.tight_layout()\n",
      "C:\\Users\\aksha\\AppData\\Local\\Temp\\ipykernel_25376\\4279210179.py:297: UserWarning: Matplotlib is currently using agg, which is a non-GUI backend, so cannot show the figure.\n",
      "  plt.show()\n"
     ]
    },
    {
     "name": "stdout",
     "output_type": "stream",
     "text": [
      "3m 59s (- 0m 47s) (5 83%) 1.9091\n"
     ]
    },
    {
     "name": "stderr",
     "output_type": "stream",
     "text": [
      "C:\\Users\\aksha\\AppData\\Local\\Temp\\ipykernel_25376\\4279210179.py:295: UserWarning: This figure includes Axes that are not compatible with tight_layout, so results might be incorrect.\n",
      "  plt.tight_layout()\n",
      "C:\\Users\\aksha\\AppData\\Local\\Temp\\ipykernel_25376\\4279210179.py:295: UserWarning: This figure was using constrained_layout, but that is incompatible with subplots_adjust and/or tight_layout; disabling constrained_layout.\n",
      "  plt.tight_layout()\n",
      "C:\\Users\\aksha\\AppData\\Local\\Temp\\ipykernel_25376\\4279210179.py:297: UserWarning: Matplotlib is currently using agg, which is a non-GUI backend, so cannot show the figure.\n",
      "  plt.show()\n"
     ]
    },
    {
     "name": "stdout",
     "output_type": "stream",
     "text": [
      "4m 48s (- 0m 0s) (6 100%) 1.8092\n"
     ]
    },
    {
     "name": "stderr",
     "output_type": "stream",
     "text": [
      "C:\\Users\\aksha\\AppData\\Local\\Temp\\ipykernel_25376\\4279210179.py:295: UserWarning: This figure includes Axes that are not compatible with tight_layout, so results might be incorrect.\n",
      "  plt.tight_layout()\n",
      "C:\\Users\\aksha\\AppData\\Local\\Temp\\ipykernel_25376\\4279210179.py:295: UserWarning: This figure was using constrained_layout, but that is incompatible with subplots_adjust and/or tight_layout; disabling constrained_layout.\n",
      "  plt.tight_layout()\n",
      "C:\\Users\\aksha\\AppData\\Local\\Temp\\ipykernel_25376\\4279210179.py:297: UserWarning: Matplotlib is currently using agg, which is a non-GUI backend, so cannot show the figure.\n",
      "  plt.show()\n"
     ]
    },
    {
     "data": {
      "text/html": [],
      "text/plain": [
       "<IPython.core.display.HTML object>"
      ]
     },
     "metadata": {},
     "output_type": "display_data"
    },
    {
     "data": {
      "text/html": [
       "<br>    <style><br>        .wandb-row {<br>            display: flex;<br>            flex-direction: row;<br>            flex-wrap: wrap;<br>            justify-content: flex-start;<br>            width: 100%;<br>        }<br>        .wandb-col {<br>            display: flex;<br>            flex-direction: column;<br>            flex-basis: 100%;<br>            flex: 1;<br>            padding: 10px;<br>        }<br>    </style><br><div class=\"wandb-row\"><div class=\"wandb-col\"><h3>Run history:</h3><br/><table class=\"wandb\"><tr><td>epoch</td><td>▁▂▄▅▇█</td></tr><tr><td>train_loss</td><td>█▅▃▂▂▁</td></tr><tr><td>val_accuracy</td><td>▁▁▁▃▆█</td></tr></table><br/></div><div class=\"wandb-col\"><h3>Run summary:</h3><br/><table class=\"wandb\"><tr><td>epoch</td><td>6</td></tr><tr><td>train_loss</td><td>1.80918</td></tr><tr><td>val_accuracy</td><td>0.00665</td></tr></table><br/></div></div>"
      ],
      "text/plain": [
       "<IPython.core.display.HTML object>"
      ]
     },
     "metadata": {},
     "output_type": "display_data"
    },
    {
     "data": {
      "text/html": [
       " View run <strong style=\"color:#cdcd00\">Layer-lstm-Batch-64-LR-0.0001-Dropout-0.4-Layers-2-LayerType-lstm-BeamWidth-1</strong> at: <a href='https://wandb.ai/me21b172-indian-institute-of-technology-madras/transliteration-sweep/runs/pjllujdk' target=\"_blank\">https://wandb.ai/me21b172-indian-institute-of-technology-madras/transliteration-sweep/runs/pjllujdk</a><br> View project at: <a href='https://wandb.ai/me21b172-indian-institute-of-technology-madras/transliteration-sweep' target=\"_blank\">https://wandb.ai/me21b172-indian-institute-of-technology-madras/transliteration-sweep</a><br>Synced 5 W&B file(s), 6 media file(s), 0 artifact file(s) and 0 other file(s)"
      ],
      "text/plain": [
       "<IPython.core.display.HTML object>"
      ]
     },
     "metadata": {},
     "output_type": "display_data"
    },
    {
     "data": {
      "text/html": [
       "Find logs at: <code>.\\wandb\\run-20250519_105120-pjllujdk\\logs</code>"
      ],
      "text/plain": [
       "<IPython.core.display.HTML object>"
      ]
     },
     "metadata": {},
     "output_type": "display_data"
    },
    {
     "name": "stderr",
     "output_type": "stream",
     "text": [
      "\u001b[34m\u001b[1mwandb\u001b[0m: Agent Starting Run: 9wdtqj2x with config:\n",
      "\u001b[34m\u001b[1mwandb\u001b[0m: \tactivation: tanh\n",
      "\u001b[34m\u001b[1mwandb\u001b[0m: \tbatch_size: 32\n",
      "\u001b[34m\u001b[1mwandb\u001b[0m: \tbeam_width: 2\n",
      "\u001b[34m\u001b[1mwandb\u001b[0m: \tdropout_p: 0.1\n",
      "\u001b[34m\u001b[1mwandb\u001b[0m: \tembed_size: 256\n",
      "\u001b[34m\u001b[1mwandb\u001b[0m: \thidden_size: 256\n",
      "\u001b[34m\u001b[1mwandb\u001b[0m: \tlayer: lstm\n",
      "\u001b[34m\u001b[1mwandb\u001b[0m: \tlearning_rate: 0.0001\n",
      "\u001b[34m\u001b[1mwandb\u001b[0m: \tnum_epochs: 6\n",
      "\u001b[34m\u001b[1mwandb\u001b[0m: \tnum_layers: 4\n",
      "\u001b[34m\u001b[1mwandb\u001b[0m: \tteacher_forcing_prob: 0.8\n"
     ]
    },
    {
     "data": {
      "text/html": [
       "Tracking run with wandb version 0.19.9"
      ],
      "text/plain": [
       "<IPython.core.display.HTML object>"
      ]
     },
     "metadata": {},
     "output_type": "display_data"
    },
    {
     "data": {
      "text/html": [
       "Run data is saved locally in <code>c:\\Users\\aksha\\OneDrive\\Desktop\\codes\\CP\\DL Assignment Submissions\\Assignment-3\\wandb\\run-20250519_105632-9wdtqj2x</code>"
      ],
      "text/plain": [
       "<IPython.core.display.HTML object>"
      ]
     },
     "metadata": {},
     "output_type": "display_data"
    },
    {
     "data": {
      "text/html": [
       "Syncing run <strong><a href='https://wandb.ai/me21b172-indian-institute-of-technology-madras/transliteration-sweep/runs/9wdtqj2x' target=\"_blank\">vivid-sweep-3</a></strong> to <a href='https://wandb.ai/me21b172-indian-institute-of-technology-madras/transliteration-sweep' target=\"_blank\">Weights & Biases</a> (<a href='https://wandb.me/developer-guide' target=\"_blank\">docs</a>)<br>Sweep page: <a href='https://wandb.ai/me21b172-indian-institute-of-technology-madras/transliteration-sweep/sweeps/kob5w4rc' target=\"_blank\">https://wandb.ai/me21b172-indian-institute-of-technology-madras/transliteration-sweep/sweeps/kob5w4rc</a>"
      ],
      "text/plain": [
       "<IPython.core.display.HTML object>"
      ]
     },
     "metadata": {},
     "output_type": "display_data"
    },
    {
     "data": {
      "text/html": [
       " View project at <a href='https://wandb.ai/me21b172-indian-institute-of-technology-madras/transliteration-sweep' target=\"_blank\">https://wandb.ai/me21b172-indian-institute-of-technology-madras/transliteration-sweep</a>"
      ],
      "text/plain": [
       "<IPython.core.display.HTML object>"
      ]
     },
     "metadata": {},
     "output_type": "display_data"
    },
    {
     "data": {
      "text/html": [
       " View sweep at <a href='https://wandb.ai/me21b172-indian-institute-of-technology-madras/transliteration-sweep/sweeps/kob5w4rc' target=\"_blank\">https://wandb.ai/me21b172-indian-institute-of-technology-madras/transliteration-sweep/sweeps/kob5w4rc</a>"
      ],
      "text/plain": [
       "<IPython.core.display.HTML object>"
      ]
     },
     "metadata": {},
     "output_type": "display_data"
    },
    {
     "data": {
      "text/html": [
       " View run at <a href='https://wandb.ai/me21b172-indian-institute-of-technology-madras/transliteration-sweep/runs/9wdtqj2x' target=\"_blank\">https://wandb.ai/me21b172-indian-institute-of-technology-madras/transliteration-sweep/runs/9wdtqj2x</a>"
      ],
      "text/plain": [
       "<IPython.core.display.HTML object>"
      ]
     },
     "metadata": {},
     "output_type": "display_data"
    },
    {
     "name": "stdout",
     "output_type": "stream",
     "text": [
      "1m 48s (- 9m 3s) (1 16%) 2.7693\n"
     ]
    },
    {
     "name": "stderr",
     "output_type": "stream",
     "text": [
      "C:\\Users\\aksha\\AppData\\Local\\Temp\\ipykernel_25376\\4279210179.py:295: UserWarning: This figure includes Axes that are not compatible with tight_layout, so results might be incorrect.\n",
      "  plt.tight_layout()\n",
      "C:\\Users\\aksha\\AppData\\Local\\Temp\\ipykernel_25376\\4279210179.py:295: UserWarning: This figure was using constrained_layout, but that is incompatible with subplots_adjust and/or tight_layout; disabling constrained_layout.\n",
      "  plt.tight_layout()\n",
      "C:\\Users\\aksha\\AppData\\Local\\Temp\\ipykernel_25376\\4279210179.py:297: UserWarning: Matplotlib is currently using agg, which is a non-GUI backend, so cannot show the figure.\n",
      "  plt.show()\n"
     ]
    },
    {
     "name": "stdout",
     "output_type": "stream",
     "text": [
      "3m 34s (- 7m 8s) (2 33%) 1.8833\n"
     ]
    },
    {
     "name": "stderr",
     "output_type": "stream",
     "text": [
      "C:\\Users\\aksha\\AppData\\Local\\Temp\\ipykernel_25376\\4279210179.py:295: UserWarning: This figure includes Axes that are not compatible with tight_layout, so results might be incorrect.\n",
      "  plt.tight_layout()\n",
      "C:\\Users\\aksha\\AppData\\Local\\Temp\\ipykernel_25376\\4279210179.py:295: UserWarning: This figure was using constrained_layout, but that is incompatible with subplots_adjust and/or tight_layout; disabling constrained_layout.\n",
      "  plt.tight_layout()\n",
      "C:\\Users\\aksha\\AppData\\Local\\Temp\\ipykernel_25376\\4279210179.py:297: UserWarning: Matplotlib is currently using agg, which is a non-GUI backend, so cannot show the figure.\n",
      "  plt.show()\n"
     ]
    },
    {
     "name": "stdout",
     "output_type": "stream",
     "text": [
      "5m 19s (- 5m 19s) (3 50%) 1.5412\n"
     ]
    },
    {
     "name": "stderr",
     "output_type": "stream",
     "text": [
      "C:\\Users\\aksha\\AppData\\Local\\Temp\\ipykernel_25376\\4279210179.py:295: UserWarning: This figure includes Axes that are not compatible with tight_layout, so results might be incorrect.\n",
      "  plt.tight_layout()\n",
      "C:\\Users\\aksha\\AppData\\Local\\Temp\\ipykernel_25376\\4279210179.py:295: UserWarning: This figure was using constrained_layout, but that is incompatible with subplots_adjust and/or tight_layout; disabling constrained_layout.\n",
      "  plt.tight_layout()\n",
      "C:\\Users\\aksha\\AppData\\Local\\Temp\\ipykernel_25376\\4279210179.py:297: UserWarning: Matplotlib is currently using agg, which is a non-GUI backend, so cannot show the figure.\n",
      "  plt.show()\n"
     ]
    },
    {
     "name": "stdout",
     "output_type": "stream",
     "text": [
      "7m 12s (- 3m 36s) (4 66%) 1.3553\n"
     ]
    },
    {
     "name": "stderr",
     "output_type": "stream",
     "text": [
      "C:\\Users\\aksha\\AppData\\Local\\Temp\\ipykernel_25376\\4279210179.py:295: UserWarning: This figure includes Axes that are not compatible with tight_layout, so results might be incorrect.\n",
      "  plt.tight_layout()\n",
      "C:\\Users\\aksha\\AppData\\Local\\Temp\\ipykernel_25376\\4279210179.py:295: UserWarning: This figure was using constrained_layout, but that is incompatible with subplots_adjust and/or tight_layout; disabling constrained_layout.\n",
      "  plt.tight_layout()\n",
      "C:\\Users\\aksha\\AppData\\Local\\Temp\\ipykernel_25376\\4279210179.py:297: UserWarning: Matplotlib is currently using agg, which is a non-GUI backend, so cannot show the figure.\n",
      "  plt.show()\n"
     ]
    },
    {
     "name": "stdout",
     "output_type": "stream",
     "text": [
      "9m 9s (- 1m 49s) (5 83%) 1.2296\n"
     ]
    },
    {
     "name": "stderr",
     "output_type": "stream",
     "text": [
      "C:\\Users\\aksha\\AppData\\Local\\Temp\\ipykernel_25376\\4279210179.py:248: RuntimeWarning: More than 20 figures have been opened. Figures created through the pyplot interface (`matplotlib.pyplot.figure`) are retained until explicitly closed and may consume too much memory. (To control this warning, see the rcParam `figure.max_open_warning`).\n",
      "  fig = plt.figure(figsize=(18, 8), constrained_layout=True)\n",
      "C:\\Users\\aksha\\AppData\\Local\\Temp\\ipykernel_25376\\4279210179.py:295: UserWarning: This figure includes Axes that are not compatible with tight_layout, so results might be incorrect.\n",
      "  plt.tight_layout()\n",
      "C:\\Users\\aksha\\AppData\\Local\\Temp\\ipykernel_25376\\4279210179.py:295: UserWarning: This figure was using constrained_layout, but that is incompatible with subplots_adjust and/or tight_layout; disabling constrained_layout.\n",
      "  plt.tight_layout()\n",
      "C:\\Users\\aksha\\AppData\\Local\\Temp\\ipykernel_25376\\4279210179.py:297: UserWarning: Matplotlib is currently using agg, which is a non-GUI backend, so cannot show the figure.\n",
      "  plt.show()\n"
     ]
    },
    {
     "name": "stdout",
     "output_type": "stream",
     "text": [
      "11m 4s (- 0m 0s) (6 100%) 1.1384\n"
     ]
    },
    {
     "name": "stderr",
     "output_type": "stream",
     "text": [
      "C:\\Users\\aksha\\AppData\\Local\\Temp\\ipykernel_25376\\4279210179.py:295: UserWarning: This figure includes Axes that are not compatible with tight_layout, so results might be incorrect.\n",
      "  plt.tight_layout()\n",
      "C:\\Users\\aksha\\AppData\\Local\\Temp\\ipykernel_25376\\4279210179.py:295: UserWarning: This figure was using constrained_layout, but that is incompatible with subplots_adjust and/or tight_layout; disabling constrained_layout.\n",
      "  plt.tight_layout()\n",
      "C:\\Users\\aksha\\AppData\\Local\\Temp\\ipykernel_25376\\4279210179.py:297: UserWarning: Matplotlib is currently using agg, which is a non-GUI backend, so cannot show the figure.\n",
      "  plt.show()\n"
     ]
    },
    {
     "data": {
      "text/html": [],
      "text/plain": [
       "<IPython.core.display.HTML object>"
      ]
     },
     "metadata": {},
     "output_type": "display_data"
    },
    {
     "data": {
      "text/html": [
       "<br>    <style><br>        .wandb-row {<br>            display: flex;<br>            flex-direction: row;<br>            flex-wrap: wrap;<br>            justify-content: flex-start;<br>            width: 100%;<br>        }<br>        .wandb-col {<br>            display: flex;<br>            flex-direction: column;<br>            flex-basis: 100%;<br>            flex: 1;<br>            padding: 10px;<br>        }<br>    </style><br><div class=\"wandb-row\"><div class=\"wandb-col\"><h3>Run history:</h3><br/><table class=\"wandb\"><tr><td>epoch</td><td>▁▂▄▅▇█</td></tr><tr><td>train_loss</td><td>█▄▃▂▁▁</td></tr><tr><td>val_accuracy</td><td>▁▂▄▆▇█</td></tr></table><br/></div><div class=\"wandb-col\"><h3>Run summary:</h3><br/><table class=\"wandb\"><tr><td>epoch</td><td>6</td></tr><tr><td>train_loss</td><td>1.13836</td></tr><tr><td>val_accuracy</td><td>0.06379</td></tr></table><br/></div></div>"
      ],
      "text/plain": [
       "<IPython.core.display.HTML object>"
      ]
     },
     "metadata": {},
     "output_type": "display_data"
    },
    {
     "data": {
      "text/html": [
       " View run <strong style=\"color:#cdcd00\">Layer-lstm-Batch-32-LR-0.0001-Dropout-0.1-Layers-4-LayerType-lstm-BeamWidth-2</strong> at: <a href='https://wandb.ai/me21b172-indian-institute-of-technology-madras/transliteration-sweep/runs/9wdtqj2x' target=\"_blank\">https://wandb.ai/me21b172-indian-institute-of-technology-madras/transliteration-sweep/runs/9wdtqj2x</a><br> View project at: <a href='https://wandb.ai/me21b172-indian-institute-of-technology-madras/transliteration-sweep' target=\"_blank\">https://wandb.ai/me21b172-indian-institute-of-technology-madras/transliteration-sweep</a><br>Synced 5 W&B file(s), 6 media file(s), 0 artifact file(s) and 0 other file(s)"
      ],
      "text/plain": [
       "<IPython.core.display.HTML object>"
      ]
     },
     "metadata": {},
     "output_type": "display_data"
    },
    {
     "data": {
      "text/html": [
       "Find logs at: <code>.\\wandb\\run-20250519_105632-9wdtqj2x\\logs</code>"
      ],
      "text/plain": [
       "<IPython.core.display.HTML object>"
      ]
     },
     "metadata": {},
     "output_type": "display_data"
    },
    {
     "name": "stderr",
     "output_type": "stream",
     "text": [
      "\u001b[34m\u001b[1mwandb\u001b[0m: Agent Starting Run: 2bxqtwln with config:\n",
      "\u001b[34m\u001b[1mwandb\u001b[0m: \tactivation: tanh\n",
      "\u001b[34m\u001b[1mwandb\u001b[0m: \tbatch_size: 64\n",
      "\u001b[34m\u001b[1mwandb\u001b[0m: \tbeam_width: 1\n",
      "\u001b[34m\u001b[1mwandb\u001b[0m: \tdropout_p: 0.1\n",
      "\u001b[34m\u001b[1mwandb\u001b[0m: \tembed_size: 128\n",
      "\u001b[34m\u001b[1mwandb\u001b[0m: \thidden_size: 512\n",
      "\u001b[34m\u001b[1mwandb\u001b[0m: \tlayer: gru\n",
      "\u001b[34m\u001b[1mwandb\u001b[0m: \tlearning_rate: 0.005\n",
      "\u001b[34m\u001b[1mwandb\u001b[0m: \tnum_epochs: 6\n",
      "\u001b[34m\u001b[1mwandb\u001b[0m: \tnum_layers: 3\n",
      "\u001b[34m\u001b[1mwandb\u001b[0m: \tteacher_forcing_prob: 0.9\n"
     ]
    },
    {
     "data": {
      "text/html": [
       "Tracking run with wandb version 0.19.9"
      ],
      "text/plain": [
       "<IPython.core.display.HTML object>"
      ]
     },
     "metadata": {},
     "output_type": "display_data"
    },
    {
     "data": {
      "text/html": [
       "Run data is saved locally in <code>c:\\Users\\aksha\\OneDrive\\Desktop\\codes\\CP\\DL Assignment Submissions\\Assignment-3\\wandb\\run-20250519_110759-2bxqtwln</code>"
      ],
      "text/plain": [
       "<IPython.core.display.HTML object>"
      ]
     },
     "metadata": {},
     "output_type": "display_data"
    },
    {
     "data": {
      "text/html": [
       "Syncing run <strong><a href='https://wandb.ai/me21b172-indian-institute-of-technology-madras/transliteration-sweep/runs/2bxqtwln' target=\"_blank\">chocolate-sweep-4</a></strong> to <a href='https://wandb.ai/me21b172-indian-institute-of-technology-madras/transliteration-sweep' target=\"_blank\">Weights & Biases</a> (<a href='https://wandb.me/developer-guide' target=\"_blank\">docs</a>)<br>Sweep page: <a href='https://wandb.ai/me21b172-indian-institute-of-technology-madras/transliteration-sweep/sweeps/kob5w4rc' target=\"_blank\">https://wandb.ai/me21b172-indian-institute-of-technology-madras/transliteration-sweep/sweeps/kob5w4rc</a>"
      ],
      "text/plain": [
       "<IPython.core.display.HTML object>"
      ]
     },
     "metadata": {},
     "output_type": "display_data"
    },
    {
     "data": {
      "text/html": [
       " View project at <a href='https://wandb.ai/me21b172-indian-institute-of-technology-madras/transliteration-sweep' target=\"_blank\">https://wandb.ai/me21b172-indian-institute-of-technology-madras/transliteration-sweep</a>"
      ],
      "text/plain": [
       "<IPython.core.display.HTML object>"
      ]
     },
     "metadata": {},
     "output_type": "display_data"
    },
    {
     "data": {
      "text/html": [
       " View sweep at <a href='https://wandb.ai/me21b172-indian-institute-of-technology-madras/transliteration-sweep/sweeps/kob5w4rc' target=\"_blank\">https://wandb.ai/me21b172-indian-institute-of-technology-madras/transliteration-sweep/sweeps/kob5w4rc</a>"
      ],
      "text/plain": [
       "<IPython.core.display.HTML object>"
      ]
     },
     "metadata": {},
     "output_type": "display_data"
    },
    {
     "data": {
      "text/html": [
       " View run at <a href='https://wandb.ai/me21b172-indian-institute-of-technology-madras/transliteration-sweep/runs/2bxqtwln' target=\"_blank\">https://wandb.ai/me21b172-indian-institute-of-technology-madras/transliteration-sweep/runs/2bxqtwln</a>"
      ],
      "text/plain": [
       "<IPython.core.display.HTML object>"
      ]
     },
     "metadata": {},
     "output_type": "display_data"
    },
    {
     "name": "stdout",
     "output_type": "stream",
     "text": [
      "0m 45s (- 3m 48s) (1 16%) 1.9766\n"
     ]
    },
    {
     "name": "stderr",
     "output_type": "stream",
     "text": [
      "C:\\Users\\aksha\\AppData\\Local\\Temp\\ipykernel_25376\\4279210179.py:295: UserWarning: This figure includes Axes that are not compatible with tight_layout, so results might be incorrect.\n",
      "  plt.tight_layout()\n",
      "C:\\Users\\aksha\\AppData\\Local\\Temp\\ipykernel_25376\\4279210179.py:295: UserWarning: This figure was using constrained_layout, but that is incompatible with subplots_adjust and/or tight_layout; disabling constrained_layout.\n",
      "  plt.tight_layout()\n",
      "C:\\Users\\aksha\\AppData\\Local\\Temp\\ipykernel_25376\\4279210179.py:297: UserWarning: Matplotlib is currently using agg, which is a non-GUI backend, so cannot show the figure.\n",
      "  plt.show()\n"
     ]
    },
    {
     "name": "stdout",
     "output_type": "stream",
     "text": [
      "1m 44s (- 3m 28s) (2 33%) 1.5826\n"
     ]
    },
    {
     "name": "stderr",
     "output_type": "stream",
     "text": [
      "C:\\Users\\aksha\\AppData\\Local\\Temp\\ipykernel_25376\\4279210179.py:269: RuntimeWarning: invalid value encountered in divide\n",
      "  cm_normalized = cm.astype('float') / cm.sum(axis=1)[:, np.newaxis]\n",
      "C:\\Users\\aksha\\AppData\\Local\\Temp\\ipykernel_25376\\4279210179.py:295: UserWarning: This figure includes Axes that are not compatible with tight_layout, so results might be incorrect.\n",
      "  plt.tight_layout()\n",
      "C:\\Users\\aksha\\AppData\\Local\\Temp\\ipykernel_25376\\4279210179.py:295: UserWarning: This figure was using constrained_layout, but that is incompatible with subplots_adjust and/or tight_layout; disabling constrained_layout.\n",
      "  plt.tight_layout()\n",
      "C:\\Users\\aksha\\AppData\\Local\\Temp\\ipykernel_25376\\4279210179.py:297: UserWarning: Matplotlib is currently using agg, which is a non-GUI backend, so cannot show the figure.\n",
      "  plt.show()\n"
     ]
    },
    {
     "name": "stdout",
     "output_type": "stream",
     "text": [
      "2m 42s (- 2m 42s) (3 50%) 1.5519\n"
     ]
    },
    {
     "name": "stderr",
     "output_type": "stream",
     "text": [
      "C:\\Users\\aksha\\AppData\\Local\\Temp\\ipykernel_25376\\4279210179.py:295: UserWarning: This figure includes Axes that are not compatible with tight_layout, so results might be incorrect.\n",
      "  plt.tight_layout()\n",
      "C:\\Users\\aksha\\AppData\\Local\\Temp\\ipykernel_25376\\4279210179.py:295: UserWarning: This figure was using constrained_layout, but that is incompatible with subplots_adjust and/or tight_layout; disabling constrained_layout.\n",
      "  plt.tight_layout()\n",
      "C:\\Users\\aksha\\AppData\\Local\\Temp\\ipykernel_25376\\4279210179.py:297: UserWarning: Matplotlib is currently using agg, which is a non-GUI backend, so cannot show the figure.\n",
      "  plt.show()\n"
     ]
    },
    {
     "name": "stdout",
     "output_type": "stream",
     "text": [
      "3m 39s (- 1m 49s) (4 66%) 1.5416\n"
     ]
    },
    {
     "name": "stderr",
     "output_type": "stream",
     "text": [
      "C:\\Users\\aksha\\AppData\\Local\\Temp\\ipykernel_25376\\4279210179.py:295: UserWarning: This figure includes Axes that are not compatible with tight_layout, so results might be incorrect.\n",
      "  plt.tight_layout()\n",
      "C:\\Users\\aksha\\AppData\\Local\\Temp\\ipykernel_25376\\4279210179.py:295: UserWarning: This figure was using constrained_layout, but that is incompatible with subplots_adjust and/or tight_layout; disabling constrained_layout.\n",
      "  plt.tight_layout()\n",
      "C:\\Users\\aksha\\AppData\\Local\\Temp\\ipykernel_25376\\4279210179.py:297: UserWarning: Matplotlib is currently using agg, which is a non-GUI backend, so cannot show the figure.\n",
      "  plt.show()\n"
     ]
    },
    {
     "name": "stdout",
     "output_type": "stream",
     "text": [
      "4m 41s (- 0m 56s) (5 83%) 1.5393\n"
     ]
    },
    {
     "name": "stderr",
     "output_type": "stream",
     "text": [
      "C:\\Users\\aksha\\AppData\\Local\\Temp\\ipykernel_25376\\4279210179.py:295: UserWarning: This figure includes Axes that are not compatible with tight_layout, so results might be incorrect.\n",
      "  plt.tight_layout()\n",
      "C:\\Users\\aksha\\AppData\\Local\\Temp\\ipykernel_25376\\4279210179.py:295: UserWarning: This figure was using constrained_layout, but that is incompatible with subplots_adjust and/or tight_layout; disabling constrained_layout.\n",
      "  plt.tight_layout()\n",
      "C:\\Users\\aksha\\AppData\\Local\\Temp\\ipykernel_25376\\4279210179.py:297: UserWarning: Matplotlib is currently using agg, which is a non-GUI backend, so cannot show the figure.\n",
      "  plt.show()\n"
     ]
    },
    {
     "name": "stdout",
     "output_type": "stream",
     "text": [
      "7m 14s (- 0m 0s) (6 100%) 1.5393\n"
     ]
    },
    {
     "name": "stderr",
     "output_type": "stream",
     "text": [
      "C:\\Users\\aksha\\AppData\\Local\\Temp\\ipykernel_25376\\4279210179.py:295: UserWarning: This figure includes Axes that are not compatible with tight_layout, so results might be incorrect.\n",
      "  plt.tight_layout()\n",
      "C:\\Users\\aksha\\AppData\\Local\\Temp\\ipykernel_25376\\4279210179.py:295: UserWarning: This figure was using constrained_layout, but that is incompatible with subplots_adjust and/or tight_layout; disabling constrained_layout.\n",
      "  plt.tight_layout()\n",
      "C:\\Users\\aksha\\AppData\\Local\\Temp\\ipykernel_25376\\4279210179.py:297: UserWarning: Matplotlib is currently using agg, which is a non-GUI backend, so cannot show the figure.\n",
      "  plt.show()\n"
     ]
    },
    {
     "data": {
      "text/html": [],
      "text/plain": [
       "<IPython.core.display.HTML object>"
      ]
     },
     "metadata": {},
     "output_type": "display_data"
    },
    {
     "data": {
      "text/html": [
       "<br>    <style><br>        .wandb-row {<br>            display: flex;<br>            flex-direction: row;<br>            flex-wrap: wrap;<br>            justify-content: flex-start;<br>            width: 100%;<br>        }<br>        .wandb-col {<br>            display: flex;<br>            flex-direction: column;<br>            flex-basis: 100%;<br>            flex: 1;<br>            padding: 10px;<br>        }<br>    </style><br><div class=\"wandb-row\"><div class=\"wandb-col\"><h3>Run history:</h3><br/><table class=\"wandb\"><tr><td>epoch</td><td>▁▂▄▅▇█</td></tr><tr><td>train_loss</td><td>█▂▁▁▁▁</td></tr><tr><td>val_accuracy</td><td>▁▆▆▇█▁</td></tr></table><br/></div><div class=\"wandb-col\"><h3>Run summary:</h3><br/><table class=\"wandb\"><tr><td>epoch</td><td>6</td></tr><tr><td>train_loss</td><td>1.53925</td></tr><tr><td>val_accuracy</td><td>0.0078</td></tr></table><br/></div></div>"
      ],
      "text/plain": [
       "<IPython.core.display.HTML object>"
      ]
     },
     "metadata": {},
     "output_type": "display_data"
    },
    {
     "data": {
      "text/html": [
       " View run <strong style=\"color:#cdcd00\">Layer-gru-Batch-64-LR-0.005-Dropout-0.1-Layers-3-LayerType-gru-BeamWidth-1</strong> at: <a href='https://wandb.ai/me21b172-indian-institute-of-technology-madras/transliteration-sweep/runs/2bxqtwln' target=\"_blank\">https://wandb.ai/me21b172-indian-institute-of-technology-madras/transliteration-sweep/runs/2bxqtwln</a><br> View project at: <a href='https://wandb.ai/me21b172-indian-institute-of-technology-madras/transliteration-sweep' target=\"_blank\">https://wandb.ai/me21b172-indian-institute-of-technology-madras/transliteration-sweep</a><br>Synced 5 W&B file(s), 6 media file(s), 0 artifact file(s) and 0 other file(s)"
      ],
      "text/plain": [
       "<IPython.core.display.HTML object>"
      ]
     },
     "metadata": {},
     "output_type": "display_data"
    },
    {
     "data": {
      "text/html": [
       "Find logs at: <code>.\\wandb\\run-20250519_110759-2bxqtwln\\logs</code>"
      ],
      "text/plain": [
       "<IPython.core.display.HTML object>"
      ]
     },
     "metadata": {},
     "output_type": "display_data"
    },
    {
     "name": "stderr",
     "output_type": "stream",
     "text": [
      "\u001b[34m\u001b[1mwandb\u001b[0m: Agent Starting Run: v9rwdz8k with config:\n",
      "\u001b[34m\u001b[1mwandb\u001b[0m: \tactivation: tanh\n",
      "\u001b[34m\u001b[1mwandb\u001b[0m: \tbatch_size: 64\n",
      "\u001b[34m\u001b[1mwandb\u001b[0m: \tbeam_width: 2\n",
      "\u001b[34m\u001b[1mwandb\u001b[0m: \tdropout_p: 0.1\n",
      "\u001b[34m\u001b[1mwandb\u001b[0m: \tembed_size: 512\n",
      "\u001b[34m\u001b[1mwandb\u001b[0m: \thidden_size: 512\n",
      "\u001b[34m\u001b[1mwandb\u001b[0m: \tlayer: gru\n",
      "\u001b[34m\u001b[1mwandb\u001b[0m: \tlearning_rate: 0.001\n",
      "\u001b[34m\u001b[1mwandb\u001b[0m: \tnum_epochs: 6\n",
      "\u001b[34m\u001b[1mwandb\u001b[0m: \tnum_layers: 4\n",
      "\u001b[34m\u001b[1mwandb\u001b[0m: \tteacher_forcing_prob: 0.9\n"
     ]
    },
    {
     "data": {
      "text/html": [
       "Tracking run with wandb version 0.19.9"
      ],
      "text/plain": [
       "<IPython.core.display.HTML object>"
      ]
     },
     "metadata": {},
     "output_type": "display_data"
    },
    {
     "data": {
      "text/html": [
       "Run data is saved locally in <code>c:\\Users\\aksha\\OneDrive\\Desktop\\codes\\CP\\DL Assignment Submissions\\Assignment-3\\wandb\\run-20250519_111550-v9rwdz8k</code>"
      ],
      "text/plain": [
       "<IPython.core.display.HTML object>"
      ]
     },
     "metadata": {},
     "output_type": "display_data"
    },
    {
     "data": {
      "text/html": [
       "Syncing run <strong><a href='https://wandb.ai/me21b172-indian-institute-of-technology-madras/transliteration-sweep/runs/v9rwdz8k' target=\"_blank\">dashing-sweep-5</a></strong> to <a href='https://wandb.ai/me21b172-indian-institute-of-technology-madras/transliteration-sweep' target=\"_blank\">Weights & Biases</a> (<a href='https://wandb.me/developer-guide' target=\"_blank\">docs</a>)<br>Sweep page: <a href='https://wandb.ai/me21b172-indian-institute-of-technology-madras/transliteration-sweep/sweeps/kob5w4rc' target=\"_blank\">https://wandb.ai/me21b172-indian-institute-of-technology-madras/transliteration-sweep/sweeps/kob5w4rc</a>"
      ],
      "text/plain": [
       "<IPython.core.display.HTML object>"
      ]
     },
     "metadata": {},
     "output_type": "display_data"
    },
    {
     "data": {
      "text/html": [
       " View project at <a href='https://wandb.ai/me21b172-indian-institute-of-technology-madras/transliteration-sweep' target=\"_blank\">https://wandb.ai/me21b172-indian-institute-of-technology-madras/transliteration-sweep</a>"
      ],
      "text/plain": [
       "<IPython.core.display.HTML object>"
      ]
     },
     "metadata": {},
     "output_type": "display_data"
    },
    {
     "data": {
      "text/html": [
       " View sweep at <a href='https://wandb.ai/me21b172-indian-institute-of-technology-madras/transliteration-sweep/sweeps/kob5w4rc' target=\"_blank\">https://wandb.ai/me21b172-indian-institute-of-technology-madras/transliteration-sweep/sweeps/kob5w4rc</a>"
      ],
      "text/plain": [
       "<IPython.core.display.HTML object>"
      ]
     },
     "metadata": {},
     "output_type": "display_data"
    },
    {
     "data": {
      "text/html": [
       " View run at <a href='https://wandb.ai/me21b172-indian-institute-of-technology-madras/transliteration-sweep/runs/v9rwdz8k' target=\"_blank\">https://wandb.ai/me21b172-indian-institute-of-technology-madras/transliteration-sweep/runs/v9rwdz8k</a>"
      ],
      "text/plain": [
       "<IPython.core.display.HTML object>"
      ]
     },
     "metadata": {},
     "output_type": "display_data"
    },
    {
     "name": "stdout",
     "output_type": "stream",
     "text": [
      "1m 39s (- 8m 17s) (1 16%) 1.5053\n"
     ]
    },
    {
     "name": "stderr",
     "output_type": "stream",
     "text": [
      "C:\\Users\\aksha\\AppData\\Local\\Temp\\ipykernel_25376\\4279210179.py:295: UserWarning: This figure includes Axes that are not compatible with tight_layout, so results might be incorrect.\n",
      "  plt.tight_layout()\n",
      "C:\\Users\\aksha\\AppData\\Local\\Temp\\ipykernel_25376\\4279210179.py:295: UserWarning: This figure was using constrained_layout, but that is incompatible with subplots_adjust and/or tight_layout; disabling constrained_layout.\n",
      "  plt.tight_layout()\n",
      "C:\\Users\\aksha\\AppData\\Local\\Temp\\ipykernel_25376\\4279210179.py:297: UserWarning: Matplotlib is currently using agg, which is a non-GUI backend, so cannot show the figure.\n",
      "  plt.show()\n"
     ]
    },
    {
     "name": "stdout",
     "output_type": "stream",
     "text": [
      "3m 48s (- 7m 37s) (2 33%) 1.0092\n"
     ]
    },
    {
     "name": "stderr",
     "output_type": "stream",
     "text": [
      "C:\\Users\\aksha\\AppData\\Local\\Temp\\ipykernel_25376\\4279210179.py:295: UserWarning: This figure includes Axes that are not compatible with tight_layout, so results might be incorrect.\n",
      "  plt.tight_layout()\n",
      "C:\\Users\\aksha\\AppData\\Local\\Temp\\ipykernel_25376\\4279210179.py:295: UserWarning: This figure was using constrained_layout, but that is incompatible with subplots_adjust and/or tight_layout; disabling constrained_layout.\n",
      "  plt.tight_layout()\n",
      "C:\\Users\\aksha\\AppData\\Local\\Temp\\ipykernel_25376\\4279210179.py:297: UserWarning: Matplotlib is currently using agg, which is a non-GUI backend, so cannot show the figure.\n",
      "  plt.show()\n"
     ]
    },
    {
     "name": "stdout",
     "output_type": "stream",
     "text": [
      "6m 20s (- 6m 20s) (3 50%) 0.8723\n"
     ]
    },
    {
     "name": "stderr",
     "output_type": "stream",
     "text": [
      "C:\\Users\\aksha\\AppData\\Local\\Temp\\ipykernel_25376\\4279210179.py:295: UserWarning: This figure includes Axes that are not compatible with tight_layout, so results might be incorrect.\n",
      "  plt.tight_layout()\n",
      "C:\\Users\\aksha\\AppData\\Local\\Temp\\ipykernel_25376\\4279210179.py:295: UserWarning: This figure was using constrained_layout, but that is incompatible with subplots_adjust and/or tight_layout; disabling constrained_layout.\n",
      "  plt.tight_layout()\n",
      "C:\\Users\\aksha\\AppData\\Local\\Temp\\ipykernel_25376\\4279210179.py:297: UserWarning: Matplotlib is currently using agg, which is a non-GUI backend, so cannot show the figure.\n",
      "  plt.show()\n"
     ]
    },
    {
     "name": "stdout",
     "output_type": "stream",
     "text": [
      "9m 5s (- 4m 32s) (4 66%) 0.7864\n"
     ]
    },
    {
     "name": "stderr",
     "output_type": "stream",
     "text": [
      "C:\\Users\\aksha\\AppData\\Local\\Temp\\ipykernel_25376\\4279210179.py:295: UserWarning: This figure includes Axes that are not compatible with tight_layout, so results might be incorrect.\n",
      "  plt.tight_layout()\n",
      "C:\\Users\\aksha\\AppData\\Local\\Temp\\ipykernel_25376\\4279210179.py:295: UserWarning: This figure was using constrained_layout, but that is incompatible with subplots_adjust and/or tight_layout; disabling constrained_layout.\n",
      "  plt.tight_layout()\n",
      "C:\\Users\\aksha\\AppData\\Local\\Temp\\ipykernel_25376\\4279210179.py:297: UserWarning: Matplotlib is currently using agg, which is a non-GUI backend, so cannot show the figure.\n",
      "  plt.show()\n"
     ]
    },
    {
     "name": "stdout",
     "output_type": "stream",
     "text": [
      "11m 26s (- 2m 17s) (5 83%) 0.7225\n"
     ]
    },
    {
     "name": "stderr",
     "output_type": "stream",
     "text": [
      "C:\\Users\\aksha\\AppData\\Local\\Temp\\ipykernel_25376\\4279210179.py:295: UserWarning: This figure includes Axes that are not compatible with tight_layout, so results might be incorrect.\n",
      "  plt.tight_layout()\n",
      "C:\\Users\\aksha\\AppData\\Local\\Temp\\ipykernel_25376\\4279210179.py:295: UserWarning: This figure was using constrained_layout, but that is incompatible with subplots_adjust and/or tight_layout; disabling constrained_layout.\n",
      "  plt.tight_layout()\n",
      "C:\\Users\\aksha\\AppData\\Local\\Temp\\ipykernel_25376\\4279210179.py:297: UserWarning: Matplotlib is currently using agg, which is a non-GUI backend, so cannot show the figure.\n",
      "  plt.show()\n"
     ]
    },
    {
     "name": "stdout",
     "output_type": "stream",
     "text": [
      "13m 59s (- 0m 0s) (6 100%) 0.6735\n"
     ]
    },
    {
     "name": "stderr",
     "output_type": "stream",
     "text": [
      "C:\\Users\\aksha\\AppData\\Local\\Temp\\ipykernel_25376\\4279210179.py:295: UserWarning: This figure includes Axes that are not compatible with tight_layout, so results might be incorrect.\n",
      "  plt.tight_layout()\n",
      "C:\\Users\\aksha\\AppData\\Local\\Temp\\ipykernel_25376\\4279210179.py:295: UserWarning: This figure was using constrained_layout, but that is incompatible with subplots_adjust and/or tight_layout; disabling constrained_layout.\n",
      "  plt.tight_layout()\n",
      "C:\\Users\\aksha\\AppData\\Local\\Temp\\ipykernel_25376\\4279210179.py:297: UserWarning: Matplotlib is currently using agg, which is a non-GUI backend, so cannot show the figure.\n",
      "  plt.show()\n"
     ]
    },
    {
     "data": {
      "text/html": [],
      "text/plain": [
       "<IPython.core.display.HTML object>"
      ]
     },
     "metadata": {},
     "output_type": "display_data"
    },
    {
     "data": {
      "text/html": [
       "<br>    <style><br>        .wandb-row {<br>            display: flex;<br>            flex-direction: row;<br>            flex-wrap: wrap;<br>            justify-content: flex-start;<br>            width: 100%;<br>        }<br>        .wandb-col {<br>            display: flex;<br>            flex-direction: column;<br>            flex-basis: 100%;<br>            flex: 1;<br>            padding: 10px;<br>        }<br>    </style><br><div class=\"wandb-row\"><div class=\"wandb-col\"><h3>Run history:</h3><br/><table class=\"wandb\"><tr><td>epoch</td><td>▁▂▄▅▇█</td></tr><tr><td>train_loss</td><td>█▄▃▂▁▁</td></tr><tr><td>val_accuracy</td><td>▁▅▄▇██</td></tr></table><br/></div><div class=\"wandb-col\"><h3>Run summary:</h3><br/><table class=\"wandb\"><tr><td>epoch</td><td>6</td></tr><tr><td>train_loss</td><td>0.67346</td></tr><tr><td>val_accuracy</td><td>0.10142</td></tr></table><br/></div></div>"
      ],
      "text/plain": [
       "<IPython.core.display.HTML object>"
      ]
     },
     "metadata": {},
     "output_type": "display_data"
    },
    {
     "data": {
      "text/html": [
       " View run <strong style=\"color:#cdcd00\">Layer-gru-Batch-64-LR-0.001-Dropout-0.1-Layers-4-LayerType-gru-BeamWidth-2</strong> at: <a href='https://wandb.ai/me21b172-indian-institute-of-technology-madras/transliteration-sweep/runs/v9rwdz8k' target=\"_blank\">https://wandb.ai/me21b172-indian-institute-of-technology-madras/transliteration-sweep/runs/v9rwdz8k</a><br> View project at: <a href='https://wandb.ai/me21b172-indian-institute-of-technology-madras/transliteration-sweep' target=\"_blank\">https://wandb.ai/me21b172-indian-institute-of-technology-madras/transliteration-sweep</a><br>Synced 5 W&B file(s), 6 media file(s), 0 artifact file(s) and 0 other file(s)"
      ],
      "text/plain": [
       "<IPython.core.display.HTML object>"
      ]
     },
     "metadata": {},
     "output_type": "display_data"
    },
    {
     "data": {
      "text/html": [
       "Find logs at: <code>.\\wandb\\run-20250519_111550-v9rwdz8k\\logs</code>"
      ],
      "text/plain": [
       "<IPython.core.display.HTML object>"
      ]
     },
     "metadata": {},
     "output_type": "display_data"
    },
    {
     "name": "stderr",
     "output_type": "stream",
     "text": [
      "\u001b[34m\u001b[1mwandb\u001b[0m: Agent Starting Run: 98e0g30a with config:\n",
      "\u001b[34m\u001b[1mwandb\u001b[0m: \tactivation: tanh\n",
      "\u001b[34m\u001b[1mwandb\u001b[0m: \tbatch_size: 64\n",
      "\u001b[34m\u001b[1mwandb\u001b[0m: \tbeam_width: 1\n",
      "\u001b[34m\u001b[1mwandb\u001b[0m: \tdropout_p: 0.3\n",
      "\u001b[34m\u001b[1mwandb\u001b[0m: \tembed_size: 256\n",
      "\u001b[34m\u001b[1mwandb\u001b[0m: \thidden_size: 256\n",
      "\u001b[34m\u001b[1mwandb\u001b[0m: \tlayer: gru\n",
      "\u001b[34m\u001b[1mwandb\u001b[0m: \tlearning_rate: 0.001\n",
      "\u001b[34m\u001b[1mwandb\u001b[0m: \tnum_epochs: 6\n",
      "\u001b[34m\u001b[1mwandb\u001b[0m: \tnum_layers: 4\n",
      "\u001b[34m\u001b[1mwandb\u001b[0m: \tteacher_forcing_prob: 0.8\n"
     ]
    },
    {
     "data": {
      "text/html": [
       "Tracking run with wandb version 0.19.9"
      ],
      "text/plain": [
       "<IPython.core.display.HTML object>"
      ]
     },
     "metadata": {},
     "output_type": "display_data"
    },
    {
     "data": {
      "text/html": [
       "Run data is saved locally in <code>c:\\Users\\aksha\\OneDrive\\Desktop\\codes\\CP\\DL Assignment Submissions\\Assignment-3\\wandb\\run-20250519_113029-98e0g30a</code>"
      ],
      "text/plain": [
       "<IPython.core.display.HTML object>"
      ]
     },
     "metadata": {},
     "output_type": "display_data"
    },
    {
     "data": {
      "text/html": [
       "Syncing run <strong><a href='https://wandb.ai/me21b172-indian-institute-of-technology-madras/transliteration-sweep/runs/98e0g30a' target=\"_blank\">balmy-sweep-6</a></strong> to <a href='https://wandb.ai/me21b172-indian-institute-of-technology-madras/transliteration-sweep' target=\"_blank\">Weights & Biases</a> (<a href='https://wandb.me/developer-guide' target=\"_blank\">docs</a>)<br>Sweep page: <a href='https://wandb.ai/me21b172-indian-institute-of-technology-madras/transliteration-sweep/sweeps/kob5w4rc' target=\"_blank\">https://wandb.ai/me21b172-indian-institute-of-technology-madras/transliteration-sweep/sweeps/kob5w4rc</a>"
      ],
      "text/plain": [
       "<IPython.core.display.HTML object>"
      ]
     },
     "metadata": {},
     "output_type": "display_data"
    },
    {
     "data": {
      "text/html": [
       " View project at <a href='https://wandb.ai/me21b172-indian-institute-of-technology-madras/transliteration-sweep' target=\"_blank\">https://wandb.ai/me21b172-indian-institute-of-technology-madras/transliteration-sweep</a>"
      ],
      "text/plain": [
       "<IPython.core.display.HTML object>"
      ]
     },
     "metadata": {},
     "output_type": "display_data"
    },
    {
     "data": {
      "text/html": [
       " View sweep at <a href='https://wandb.ai/me21b172-indian-institute-of-technology-madras/transliteration-sweep/sweeps/kob5w4rc' target=\"_blank\">https://wandb.ai/me21b172-indian-institute-of-technology-madras/transliteration-sweep/sweeps/kob5w4rc</a>"
      ],
      "text/plain": [
       "<IPython.core.display.HTML object>"
      ]
     },
     "metadata": {},
     "output_type": "display_data"
    },
    {
     "data": {
      "text/html": [
       " View run at <a href='https://wandb.ai/me21b172-indian-institute-of-technology-madras/transliteration-sweep/runs/98e0g30a' target=\"_blank\">https://wandb.ai/me21b172-indian-institute-of-technology-madras/transliteration-sweep/runs/98e0g30a</a>"
      ],
      "text/plain": [
       "<IPython.core.display.HTML object>"
      ]
     },
     "metadata": {},
     "output_type": "display_data"
    },
    {
     "name": "stdout",
     "output_type": "stream",
     "text": [
      "1m 20s (- 6m 41s) (1 16%) 1.7693\n"
     ]
    },
    {
     "name": "stderr",
     "output_type": "stream",
     "text": [
      "C:\\Users\\aksha\\AppData\\Local\\Temp\\ipykernel_25376\\4279210179.py:295: UserWarning: This figure includes Axes that are not compatible with tight_layout, so results might be incorrect.\n",
      "  plt.tight_layout()\n",
      "C:\\Users\\aksha\\AppData\\Local\\Temp\\ipykernel_25376\\4279210179.py:295: UserWarning: This figure was using constrained_layout, but that is incompatible with subplots_adjust and/or tight_layout; disabling constrained_layout.\n",
      "  plt.tight_layout()\n",
      "C:\\Users\\aksha\\AppData\\Local\\Temp\\ipykernel_25376\\4279210179.py:297: UserWarning: Matplotlib is currently using agg, which is a non-GUI backend, so cannot show the figure.\n",
      "  plt.show()\n"
     ]
    },
    {
     "name": "stdout",
     "output_type": "stream",
     "text": [
      "2m 47s (- 5m 34s) (2 33%) 1.1071\n"
     ]
    },
    {
     "name": "stderr",
     "output_type": "stream",
     "text": [
      "C:\\Users\\aksha\\AppData\\Local\\Temp\\ipykernel_25376\\4279210179.py:295: UserWarning: This figure includes Axes that are not compatible with tight_layout, so results might be incorrect.\n",
      "  plt.tight_layout()\n",
      "C:\\Users\\aksha\\AppData\\Local\\Temp\\ipykernel_25376\\4279210179.py:295: UserWarning: This figure was using constrained_layout, but that is incompatible with subplots_adjust and/or tight_layout; disabling constrained_layout.\n",
      "  plt.tight_layout()\n",
      "C:\\Users\\aksha\\AppData\\Local\\Temp\\ipykernel_25376\\4279210179.py:297: UserWarning: Matplotlib is currently using agg, which is a non-GUI backend, so cannot show the figure.\n",
      "  plt.show()\n"
     ]
    },
    {
     "name": "stdout",
     "output_type": "stream",
     "text": [
      "4m 10s (- 4m 10s) (3 50%) 0.9407\n"
     ]
    },
    {
     "name": "stderr",
     "output_type": "stream",
     "text": [
      "C:\\Users\\aksha\\AppData\\Local\\Temp\\ipykernel_25376\\4279210179.py:295: UserWarning: This figure includes Axes that are not compatible with tight_layout, so results might be incorrect.\n",
      "  plt.tight_layout()\n",
      "C:\\Users\\aksha\\AppData\\Local\\Temp\\ipykernel_25376\\4279210179.py:295: UserWarning: This figure was using constrained_layout, but that is incompatible with subplots_adjust and/or tight_layout; disabling constrained_layout.\n",
      "  plt.tight_layout()\n",
      "C:\\Users\\aksha\\AppData\\Local\\Temp\\ipykernel_25376\\4279210179.py:297: UserWarning: Matplotlib is currently using agg, which is a non-GUI backend, so cannot show the figure.\n",
      "  plt.show()\n"
     ]
    },
    {
     "name": "stdout",
     "output_type": "stream",
     "text": [
      "5m 24s (- 2m 42s) (4 66%) 0.8377\n"
     ]
    },
    {
     "name": "stderr",
     "output_type": "stream",
     "text": [
      "C:\\Users\\aksha\\AppData\\Local\\Temp\\ipykernel_25376\\4279210179.py:295: UserWarning: This figure includes Axes that are not compatible with tight_layout, so results might be incorrect.\n",
      "  plt.tight_layout()\n",
      "C:\\Users\\aksha\\AppData\\Local\\Temp\\ipykernel_25376\\4279210179.py:295: UserWarning: This figure was using constrained_layout, but that is incompatible with subplots_adjust and/or tight_layout; disabling constrained_layout.\n",
      "  plt.tight_layout()\n",
      "C:\\Users\\aksha\\AppData\\Local\\Temp\\ipykernel_25376\\4279210179.py:297: UserWarning: Matplotlib is currently using agg, which is a non-GUI backend, so cannot show the figure.\n",
      "  plt.show()\n"
     ]
    },
    {
     "name": "stdout",
     "output_type": "stream",
     "text": [
      "6m 42s (- 1m 20s) (5 83%) 0.7553\n"
     ]
    },
    {
     "name": "stderr",
     "output_type": "stream",
     "text": [
      "C:\\Users\\aksha\\AppData\\Local\\Temp\\ipykernel_25376\\4279210179.py:295: UserWarning: This figure includes Axes that are not compatible with tight_layout, so results might be incorrect.\n",
      "  plt.tight_layout()\n",
      "C:\\Users\\aksha\\AppData\\Local\\Temp\\ipykernel_25376\\4279210179.py:295: UserWarning: This figure was using constrained_layout, but that is incompatible with subplots_adjust and/or tight_layout; disabling constrained_layout.\n",
      "  plt.tight_layout()\n",
      "C:\\Users\\aksha\\AppData\\Local\\Temp\\ipykernel_25376\\4279210179.py:297: UserWarning: Matplotlib is currently using agg, which is a non-GUI backend, so cannot show the figure.\n",
      "  plt.show()\n"
     ]
    },
    {
     "name": "stdout",
     "output_type": "stream",
     "text": [
      "8m 0s (- 0m 0s) (6 100%) 0.6915\n"
     ]
    },
    {
     "name": "stderr",
     "output_type": "stream",
     "text": [
      "C:\\Users\\aksha\\AppData\\Local\\Temp\\ipykernel_25376\\4279210179.py:295: UserWarning: This figure includes Axes that are not compatible with tight_layout, so results might be incorrect.\n",
      "  plt.tight_layout()\n",
      "C:\\Users\\aksha\\AppData\\Local\\Temp\\ipykernel_25376\\4279210179.py:295: UserWarning: This figure was using constrained_layout, but that is incompatible with subplots_adjust and/or tight_layout; disabling constrained_layout.\n",
      "  plt.tight_layout()\n",
      "C:\\Users\\aksha\\AppData\\Local\\Temp\\ipykernel_25376\\4279210179.py:297: UserWarning: Matplotlib is currently using agg, which is a non-GUI backend, so cannot show the figure.\n",
      "  plt.show()\n"
     ]
    },
    {
     "data": {
      "text/html": [],
      "text/plain": [
       "<IPython.core.display.HTML object>"
      ]
     },
     "metadata": {},
     "output_type": "display_data"
    },
    {
     "data": {
      "text/html": [
       "<br>    <style><br>        .wandb-row {<br>            display: flex;<br>            flex-direction: row;<br>            flex-wrap: wrap;<br>            justify-content: flex-start;<br>            width: 100%;<br>        }<br>        .wandb-col {<br>            display: flex;<br>            flex-direction: column;<br>            flex-basis: 100%;<br>            flex: 1;<br>            padding: 10px;<br>        }<br>    </style><br><div class=\"wandb-row\"><div class=\"wandb-col\"><h3>Run history:</h3><br/><table class=\"wandb\"><tr><td>epoch</td><td>▁▂▄▅▇█</td></tr><tr><td>train_loss</td><td>█▄▃▂▁▁</td></tr><tr><td>val_accuracy</td><td>▁▃▄▇▅█</td></tr></table><br/></div><div class=\"wandb-col\"><h3>Run summary:</h3><br/><table class=\"wandb\"><tr><td>epoch</td><td>6</td></tr><tr><td>train_loss</td><td>0.69147</td></tr><tr><td>val_accuracy</td><td>0.10968</td></tr></table><br/></div></div>"
      ],
      "text/plain": [
       "<IPython.core.display.HTML object>"
      ]
     },
     "metadata": {},
     "output_type": "display_data"
    },
    {
     "data": {
      "text/html": [
       " View run <strong style=\"color:#cdcd00\">Layer-gru-Batch-64-LR-0.001-Dropout-0.3-Layers-4-LayerType-gru-BeamWidth-1</strong> at: <a href='https://wandb.ai/me21b172-indian-institute-of-technology-madras/transliteration-sweep/runs/98e0g30a' target=\"_blank\">https://wandb.ai/me21b172-indian-institute-of-technology-madras/transliteration-sweep/runs/98e0g30a</a><br> View project at: <a href='https://wandb.ai/me21b172-indian-institute-of-technology-madras/transliteration-sweep' target=\"_blank\">https://wandb.ai/me21b172-indian-institute-of-technology-madras/transliteration-sweep</a><br>Synced 5 W&B file(s), 6 media file(s), 0 artifact file(s) and 0 other file(s)"
      ],
      "text/plain": [
       "<IPython.core.display.HTML object>"
      ]
     },
     "metadata": {},
     "output_type": "display_data"
    },
    {
     "data": {
      "text/html": [
       "Find logs at: <code>.\\wandb\\run-20250519_113029-98e0g30a\\logs</code>"
      ],
      "text/plain": [
       "<IPython.core.display.HTML object>"
      ]
     },
     "metadata": {},
     "output_type": "display_data"
    },
    {
     "name": "stderr",
     "output_type": "stream",
     "text": [
      "\u001b[34m\u001b[1mwandb\u001b[0m: Sweep Agent: Waiting for job.\n",
      "\u001b[34m\u001b[1mwandb\u001b[0m: Job received.\n",
      "\u001b[34m\u001b[1mwandb\u001b[0m: Agent Starting Run: dn2ue5eh with config:\n",
      "\u001b[34m\u001b[1mwandb\u001b[0m: \tactivation: tanh\n",
      "\u001b[34m\u001b[1mwandb\u001b[0m: \tbatch_size: 64\n",
      "\u001b[34m\u001b[1mwandb\u001b[0m: \tbeam_width: 4\n",
      "\u001b[34m\u001b[1mwandb\u001b[0m: \tdropout_p: 0.3\n",
      "\u001b[34m\u001b[1mwandb\u001b[0m: \tembed_size: 512\n",
      "\u001b[34m\u001b[1mwandb\u001b[0m: \thidden_size: 512\n",
      "\u001b[34m\u001b[1mwandb\u001b[0m: \tlayer: gru\n",
      "\u001b[34m\u001b[1mwandb\u001b[0m: \tlearning_rate: 0.001\n",
      "\u001b[34m\u001b[1mwandb\u001b[0m: \tnum_epochs: 6\n",
      "\u001b[34m\u001b[1mwandb\u001b[0m: \tnum_layers: 4\n",
      "\u001b[34m\u001b[1mwandb\u001b[0m: \tteacher_forcing_prob: 0.9\n"
     ]
    },
    {
     "data": {
      "text/html": [
       "Tracking run with wandb version 0.19.9"
      ],
      "text/plain": [
       "<IPython.core.display.HTML object>"
      ]
     },
     "metadata": {},
     "output_type": "display_data"
    },
    {
     "data": {
      "text/html": [
       "Run data is saved locally in <code>c:\\Users\\aksha\\OneDrive\\Desktop\\codes\\CP\\DL Assignment Submissions\\Assignment-3\\wandb\\run-20250519_113911-dn2ue5eh</code>"
      ],
      "text/plain": [
       "<IPython.core.display.HTML object>"
      ]
     },
     "metadata": {},
     "output_type": "display_data"
    },
    {
     "data": {
      "text/html": [
       "Syncing run <strong><a href='https://wandb.ai/me21b172-indian-institute-of-technology-madras/transliteration-sweep/runs/dn2ue5eh' target=\"_blank\">drawn-sweep-7</a></strong> to <a href='https://wandb.ai/me21b172-indian-institute-of-technology-madras/transliteration-sweep' target=\"_blank\">Weights & Biases</a> (<a href='https://wandb.me/developer-guide' target=\"_blank\">docs</a>)<br>Sweep page: <a href='https://wandb.ai/me21b172-indian-institute-of-technology-madras/transliteration-sweep/sweeps/kob5w4rc' target=\"_blank\">https://wandb.ai/me21b172-indian-institute-of-technology-madras/transliteration-sweep/sweeps/kob5w4rc</a>"
      ],
      "text/plain": [
       "<IPython.core.display.HTML object>"
      ]
     },
     "metadata": {},
     "output_type": "display_data"
    },
    {
     "data": {
      "text/html": [
       " View project at <a href='https://wandb.ai/me21b172-indian-institute-of-technology-madras/transliteration-sweep' target=\"_blank\">https://wandb.ai/me21b172-indian-institute-of-technology-madras/transliteration-sweep</a>"
      ],
      "text/plain": [
       "<IPython.core.display.HTML object>"
      ]
     },
     "metadata": {},
     "output_type": "display_data"
    },
    {
     "data": {
      "text/html": [
       " View sweep at <a href='https://wandb.ai/me21b172-indian-institute-of-technology-madras/transliteration-sweep/sweeps/kob5w4rc' target=\"_blank\">https://wandb.ai/me21b172-indian-institute-of-technology-madras/transliteration-sweep/sweeps/kob5w4rc</a>"
      ],
      "text/plain": [
       "<IPython.core.display.HTML object>"
      ]
     },
     "metadata": {},
     "output_type": "display_data"
    },
    {
     "data": {
      "text/html": [
       " View run at <a href='https://wandb.ai/me21b172-indian-institute-of-technology-madras/transliteration-sweep/runs/dn2ue5eh' target=\"_blank\">https://wandb.ai/me21b172-indian-institute-of-technology-madras/transliteration-sweep/runs/dn2ue5eh</a>"
      ],
      "text/plain": [
       "<IPython.core.display.HTML object>"
      ]
     },
     "metadata": {},
     "output_type": "display_data"
    },
    {
     "name": "stdout",
     "output_type": "stream",
     "text": [
      "1m 29s (- 7m 27s) (1 16%) 1.5030\n"
     ]
    }
   ],
   "source": [
    "run_sweep(sweep_id=None, best_config=False)"
   ]
  },
  {
   "cell_type": "code",
   "execution_count": null,
   "id": "1c66d7a6",
   "metadata": {},
   "outputs": [],
   "source": []
  }
 ],
 "metadata": {
  "kernelspec": {
   "display_name": "Python 3",
   "language": "python",
   "name": "python3"
  },
  "language_info": {
   "codemirror_mode": {
    "name": "ipython",
    "version": 3
   },
   "file_extension": ".py",
   "mimetype": "text/x-python",
   "name": "python",
   "nbconvert_exporter": "python",
   "pygments_lexer": "ipython3",
   "version": "3.10.7"
  }
 },
 "nbformat": 4,
 "nbformat_minor": 5
}
